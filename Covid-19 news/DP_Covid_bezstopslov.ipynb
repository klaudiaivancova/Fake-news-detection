{
 "cells": [
  {
   "cell_type": "markdown",
   "metadata": {},
   "source": [
    "## Detekcia falošných správ zameraných na tému Covid-19 - ponechanie rozdelenia cieľového atribútu, vymazané stop slová"
   ]
  },
  {
   "cell_type": "markdown",
   "metadata": {},
   "source": [
    "#### Ako prvé načítame všetký potrebné knižnice."
   ]
  },
  {
   "cell_type": "code",
   "execution_count": 1,
   "metadata": {},
   "outputs": [
    {
     "name": "stderr",
     "output_type": "stream",
     "text": [
      "Using TensorFlow backend.\n"
     ]
    }
   ],
   "source": [
    "#načítanie potrebných knižníc\n",
    "import pandas as pd\n",
    "import csv\n",
    "import json\n",
    "import numpy as np\n",
    "import matplotlib.pyplot as plt\n",
    "plt.style.use('fivethirtyeight')\n",
    "\n",
    "%matplotlib inline\n",
    "%config InlineBackend.figure_format = 'retina'\n",
    "\n",
    "from sklearn.feature_extraction.text import CountVectorizer\n",
    "from sklearn.model_selection import train_test_split\n",
    "from nltk.tokenize import WordPunctTokenizer, word_tokenize\n",
    "from bs4 import BeautifulSoup\n",
    "import re\n",
    "import nltk\n",
    "import gensim\n",
    "from gensim.models import Word2Vec\n",
    "import os\n",
    "from tensorflow.python.keras.preprocessing.text import Tokenizer\n",
    "from tensorflow.python.keras.preprocessing.sequence import pad_sequences\n",
    "\n",
    "from keras.models import Sequential, Model, load_model\n",
    "from keras.layers import Input, concatenate, Activation, Dense, Dropout, Flatten, LSTM, Bidirectional, GRU, Conv1D, GlobalMaxPooling1D, MaxPooling1D, SpatialDropout1D, GlobalAveragePooling1D\n",
    "from keras.layers.embeddings import Embedding\n",
    "from keras.callbacks import ModelCheckpoint\n",
    "\n",
    "from sklearn.metrics import classification_report, confusion_matrix, accuracy_score,roc_auc_score\n",
    "\n",
    "from sklearn.model_selection import GridSearchCV, KFold\n",
    "from keras.wrappers.scikit_learn import KerasClassifier\n",
    "import collections"
   ]
  },
  {
   "cell_type": "markdown",
   "metadata": {},
   "source": [
    "#### Načítame dátovu množinu, ktorú sme získali z aplikácie POSTMAN. Články máme uložené v dvoch súboroch."
   ]
  },
  {
   "cell_type": "code",
   "execution_count": 2,
   "metadata": {},
   "outputs": [],
   "source": [
    "#načítanie dátovej množiny\n",
    "korona=pd.read_csv(\"detekcia_Covid19.csv\")"
   ]
  },
  {
   "cell_type": "markdown",
   "metadata": {},
   "source": [
    "#### Vymažeme potenciálne duplicitné hodnoty na základe atribútu, ktorý uchováva url adresu článku."
   ]
  },
  {
   "cell_type": "code",
   "execution_count": 4,
   "metadata": {},
   "outputs": [],
   "source": [
    "#vymazanie duplicitných hodnôt\n",
    "korona=korona.drop_duplicates(subset='url', keep=\"last\")"
   ]
  },
  {
   "cell_type": "markdown",
   "metadata": {},
   "source": [
    "#### Nižšie je vypísaná ukážka dátovej množiny, kde môžeme vidieť, že množina obsahuje atribúty ako name, url, body, perex. Atribút name nám hovorí o názve autora článku, url atribút hovorí  o url adrese odkazujúcej sa na článok, body je telo samotného článku, podľa ktorého sme správy detekovali, perex je úvodná, hrubo vytlačená časť článku tzv. uvedenie."
   ]
  },
  {
   "cell_type": "code",
   "execution_count": 5,
   "metadata": {},
   "outputs": [
    {
     "data": {
      "text/html": [
       "<div>\n",
       "<style scoped>\n",
       "    .dataframe tbody tr th:only-of-type {\n",
       "        vertical-align: middle;\n",
       "    }\n",
       "\n",
       "    .dataframe tbody tr th {\n",
       "        vertical-align: top;\n",
       "    }\n",
       "\n",
       "    .dataframe thead th {\n",
       "        text-align: right;\n",
       "    }\n",
       "</style>\n",
       "<table border=\"1\" class=\"dataframe\">\n",
       "  <thead>\n",
       "    <tr style=\"text-align: right;\">\n",
       "      <th></th>\n",
       "      <th>name</th>\n",
       "      <th>url</th>\n",
       "      <th>body</th>\n",
       "      <th>perex</th>\n",
       "      <th>published</th>\n",
       "    </tr>\n",
       "  </thead>\n",
       "  <tbody>\n",
       "    <tr>\n",
       "      <th>187</th>\n",
       "      <td>redaktor maria miz</td>\n",
       "      <td>https://www.hlavnespravy.sk/ceska-vlada-predlz...</td>\n",
       "      <td>Praha 9. apríla 2020 (SITA/HSP/Foto:SITA/AP-Ef...</td>\n",
       "      <td>&lt;p&gt;Praha 9. apríla 2020 (SITA/HSP/Foto:SITA/AP...</td>\n",
       "      <td>2020-04-09T17:40:29.000000+0200</td>\n",
       "    </tr>\n",
       "    <tr>\n",
       "      <th>189</th>\n",
       "      <td>ta3.com</td>\n",
       "      <td>https://www.ta3.com/clanok/1190300/pracuju-aj-...</td>\n",
       "      <td>NaN</td>\n",
       "      <td>Veterinári, ošetrovatelia zvierat aj zamestnan...</td>\n",
       "      <td>2020-08-17T10:37:25.000000+0200</td>\n",
       "    </tr>\n",
       "    <tr>\n",
       "      <th>190</th>\n",
       "      <td>hnonline.sk</td>\n",
       "      <td>https://finweb.hnonline.sk/financie-a-burzy/21...</td>\n",
       "      <td>NaN</td>\n",
       "      <td>Trhy sú naďalej znepokojené ekonomickými dôsle...</td>\n",
       "      <td>2020-03-11T19:37:00.000000+0100</td>\n",
       "    </tr>\n",
       "    <tr>\n",
       "      <th>191</th>\n",
       "      <td>ta3.com</td>\n",
       "      <td>https://www.ta3.com/clanok/1178311/taliansko-z...</td>\n",
       "      <td>NaN</td>\n",
       "      <td>V Taliansku zatvoria v súvislosti s rýchlym ší...</td>\n",
       "      <td>2020-03-11T22:19:40.000000+0100</td>\n",
       "    </tr>\n",
       "    <tr>\n",
       "      <th>194</th>\n",
       "      <td>Martina Max</td>\n",
       "      <td>https://www.hlavnespravy.sk/naozaj-koronavirus...</td>\n",
       "      <td>Bratislava 12. apríla 2020 (HSP/Foto:Pixabay)\\...</td>\n",
       "      <td>&lt;p&gt;Bratislava 12. apríla 2020 (HSP/Foto:Pixaba...</td>\n",
       "      <td>2020-04-12T12:31:47.000000+0200</td>\n",
       "    </tr>\n",
       "  </tbody>\n",
       "</table>\n",
       "</div>"
      ],
      "text/plain": [
       "                   name                                                url  \\\n",
       "187  redaktor maria miz  https://www.hlavnespravy.sk/ceska-vlada-predlz...   \n",
       "189             ta3.com  https://www.ta3.com/clanok/1190300/pracuju-aj-...   \n",
       "190         hnonline.sk  https://finweb.hnonline.sk/financie-a-burzy/21...   \n",
       "191             ta3.com  https://www.ta3.com/clanok/1178311/taliansko-z...   \n",
       "194         Martina Max  https://www.hlavnespravy.sk/naozaj-koronavirus...   \n",
       "\n",
       "                                                  body  \\\n",
       "187  Praha 9. apríla 2020 (SITA/HSP/Foto:SITA/AP-Ef...   \n",
       "189                                                NaN   \n",
       "190                                                NaN   \n",
       "191                                                NaN   \n",
       "194  Bratislava 12. apríla 2020 (HSP/Foto:Pixabay)\\...   \n",
       "\n",
       "                                                 perex  \\\n",
       "187  <p>Praha 9. apríla 2020 (SITA/HSP/Foto:SITA/AP...   \n",
       "189  Veterinári, ošetrovatelia zvierat aj zamestnan...   \n",
       "190  Trhy sú naďalej znepokojené ekonomickými dôsle...   \n",
       "191  V Taliansku zatvoria v súvislosti s rýchlym ší...   \n",
       "194  <p>Bratislava 12. apríla 2020 (HSP/Foto:Pixaba...   \n",
       "\n",
       "                           published  \n",
       "187  2020-04-09T17:40:29.000000+0200  \n",
       "189  2020-08-17T10:37:25.000000+0200  \n",
       "190  2020-03-11T19:37:00.000000+0100  \n",
       "191  2020-03-11T22:19:40.000000+0100  \n",
       "194  2020-04-12T12:31:47.000000+0200  "
      ]
     },
     "execution_count": 5,
     "metadata": {},
     "output_type": "execute_result"
    }
   ],
   "source": [
    "#ukážka dátovej množiny\n",
    "korona.head()"
   ]
  },
  {
   "cell_type": "markdown",
   "metadata": {},
   "source": [
    "#### Nižšie je zoznam všetkých autorov článkov s početnošťami článkov od jednotlivých autorov."
   ]
  },
  {
   "cell_type": "code",
   "execution_count": 6,
   "metadata": {},
   "outputs": [
    {
     "data": {
      "text/plain": [
       "ta3.com                      1964\n",
       "redaktor janka papcunova     1691\n",
       "Martina Max                  1569\n",
       "redaktor maria dutkova       1539\n",
       "redaktor maria miz           1528\n",
       "aktuality.sk                 1522\n",
       "hnonline.sk                  1364\n",
       "tomas zajaros                1172\n",
       "sme.sk                        476\n",
       "zemavek.sk                    313\n",
       "hlavnespravy.sk               310\n",
       "redaktor jaroslav             234\n",
       "maria palastova               202\n",
       "slobodnyvysielac.sk           176\n",
       "Redakcia                       59\n",
       "redakcia                       29\n",
       "redaktor ivana                 21\n",
       "admin                          19\n",
       "redaktor ivana pl              10\n",
       "redaktor zuzana                10\n",
       "lenzena                         7\n",
       "redaktor renata karbanova       5\n",
       "Martin Kočiš                    2\n",
       "bajecnezeny.sk                  2\n",
       "Verrny                          1\n",
       "::prop                          1\n",
       "Name: name, dtype: int64"
      ]
     },
     "execution_count": 6,
     "metadata": {},
     "output_type": "execute_result"
    }
   ],
   "source": [
    "#výpis autorov a počet ich článkov\n",
    "korona.name.value_counts()"
   ]
  },
  {
   "cell_type": "markdown",
   "metadata": {},
   "source": [
    "#### Z dátovej množiny vymažeme zdroj blog.sme, pretože je pre náš výber článkov, ktoré sa zameriavajú na politiku a ekonomiku nerelevantný. Nižšie tiež nastavíme autorom jednotlivých článkov dôverihodnosť a to 0 - pravdivé články, 1 - nepravdivé. K zisťovaniu dôveryhodnosti daných článkov nám z časti pomohla stránka konšpirátori.sk, ale taktiež sme vykonali aj manuálne priradenie relevantnosti. Z každého zdroja, odkiaľ články pochádzali, sme si vybrali náhodne zopár článkov, ktoré sme celé prečítali a priradili následne všetkým článkom z daného zdroja relevantnosť."
   ]
  },
  {
   "cell_type": "code",
   "execution_count": 7,
   "metadata": {},
   "outputs": [],
   "source": [
    "#vymazanie zdroja blog.sme pretože je nerelevantný\n",
    "korona=korona[korona.name != 'sme.sk']\n",
    "korona=korona[korona.name != 'redaktor renata karbanova']\n",
    "\n",
    "#nastavenie cieľového atribútu \n",
    "korona[\"label\"]=np.where(korona[\"name\"].str.contains(\"ta3\")|korona[\"name\"].str.contains(\"aktuality\")|korona[\"name\"].str.contains(\"hnonline\")|korona[\"name\"].str.contains(\"maria dutkova\")|korona[\"name\"].str.contains(\"janka papcunova\")\n",
    "                        |korona[\"name\"].str.contains(\"maria miz\")|korona[\"name\"].str.contains(\"Martina Max\")|korona[\"name\"].str.contains(\"tomas zajaros\")|korona[\"name\"].str.contains(\"hlavnespravy.sk\")\n",
    "                        |korona[\"name\"].str.contains(\"maria palastova\")|korona[\"name\"].str.contains(\"ivana\")|korona[\"name\"].str.contains(\"Martin Kočiš\"), 0,1)"
   ]
  },
  {
   "cell_type": "markdown",
   "metadata": {},
   "source": [
    "#### Po vytvorení cieľového atribútu si vypíšeme pomer pravdivých a nepravdivých článkov nachádzajúcich sa v dátovej množine."
   ]
  },
  {
   "cell_type": "code",
   "execution_count": 8,
   "metadata": {},
   "outputs": [
    {
     "data": {
      "text/plain": [
       "0    12894\n",
       "1      851\n",
       "Name: label, dtype: int64"
      ]
     },
     "execution_count": 8,
     "metadata": {},
     "output_type": "execute_result"
    }
   ],
   "source": [
    "#pomer cieľového atribútu\n",
    "korona.label.value_counts()"
   ]
  },
  {
   "cell_type": "markdown",
   "metadata": {},
   "source": [
    "#### Vypíšeme si aj počet prázdnych hodnôt nachádzajúcich sa v jednotlivých atribútoch."
   ]
  },
  {
   "cell_type": "code",
   "execution_count": 9,
   "metadata": {},
   "outputs": [
    {
     "data": {
      "text/plain": [
       "name            0\n",
       "url             0\n",
       "body         3401\n",
       "perex           8\n",
       "published       0\n",
       "label           0\n",
       "dtype: int64"
      ]
     },
     "execution_count": 9,
     "metadata": {},
     "output_type": "execute_result"
    }
   ],
   "source": [
    "#počet prázdnych hodnôt\n",
    "korona.isna().sum()"
   ]
  },
  {
   "cell_type": "markdown",
   "metadata": {},
   "source": [
    "#### Veľa článkov obsahuje prázdne hodnoty v atribúte body, a keďže o tieto články nechceme prísť atribútu body priradíme text z atribútu perex."
   ]
  },
  {
   "cell_type": "code",
   "execution_count": 10,
   "metadata": {},
   "outputs": [],
   "source": [
    "#veľa NA hodnôt mali pravdivé texty, čiže z perexu sme vzali text a priradili ho do body\n",
    "korona[\"body\"]=korona[\"body\"].fillna(korona[\"perex\"])"
   ]
  },
  {
   "cell_type": "code",
   "execution_count": 11,
   "metadata": {},
   "outputs": [
    {
     "data": {
      "text/plain": [
       "name         0\n",
       "url          0\n",
       "body         5\n",
       "perex        8\n",
       "published    0\n",
       "label        0\n",
       "dtype: int64"
      ]
     },
     "execution_count": 11,
     "metadata": {},
     "output_type": "execute_result"
    }
   ],
   "source": [
    "korona.isna().sum()"
   ]
  },
  {
   "cell_type": "markdown",
   "metadata": {},
   "source": [
    "#### Ak článok obsahuje prázdne hodnoty pre jeden aj druhý atribút vymažeme ho. "
   ]
  },
  {
   "cell_type": "code",
   "execution_count": 12,
   "metadata": {},
   "outputs": [],
   "source": [
    "#vymazanie prázdnych hodnôt\n",
    "korona=korona.dropna()"
   ]
  },
  {
   "cell_type": "markdown",
   "metadata": {},
   "source": [
    "#### Množinu dát si náhodne rozdelíme na trénovaciu a testovaciu množinu v pomere 70:30 a ponecháme pomer rozdelenia cieľového atribútu."
   ]
  },
  {
   "cell_type": "code",
   "execution_count": 13,
   "metadata": {},
   "outputs": [],
   "source": [
    "#do množiny x vyberieme len atribúty name, body a label a do y len atribút label\n",
    "x=korona[['name','body','label']]\n",
    "y=korona[['label']]\n",
    "\n",
    "#rozdelenie množiny na trénovaciu a testovaciu v pomere 70:30\n",
    "SEED = 2000\n",
    "x_train,x_test, y_train, y_test = train_test_split(x, y, test_size=0.3, random_state=SEED)"
   ]
  },
  {
   "cell_type": "code",
   "execution_count": 14,
   "metadata": {},
   "outputs": [
    {
     "data": {
      "text/plain": [
       "0    8984\n",
       "1     631\n",
       "Name: label, dtype: int64"
      ]
     },
     "execution_count": 14,
     "metadata": {},
     "output_type": "execute_result"
    }
   ],
   "source": [
    "x_train.label.value_counts()"
   ]
  },
  {
   "cell_type": "code",
   "execution_count": 15,
   "metadata": {},
   "outputs": [
    {
     "data": {
      "text/plain": [
       "0    3902\n",
       "1     220\n",
       "Name: label, dtype: int64"
      ]
     },
     "execution_count": 15,
     "metadata": {},
     "output_type": "execute_result"
    }
   ],
   "source": [
    "x_test.label.value_counts()"
   ]
  },
  {
   "cell_type": "markdown",
   "metadata": {},
   "source": [
    "#### Z množiny x_train a x_test nakoniec vymažeme atribút name, keďže detekciu vykonávame len na základe textu článkov. A súbory dát uložíme."
   ]
  },
  {
   "cell_type": "code",
   "execution_count": 16,
   "metadata": {},
   "outputs": [],
   "source": [
    "#vymazanie atribútu name-názov autora článku, pretože detekciu sme vykonávali len zo samotného textu\n",
    "x_train=x_train.drop(columns=['name'])\n",
    "x_test=x_test.drop(columns=['name'])"
   ]
  },
  {
   "cell_type": "code",
   "execution_count": 17,
   "metadata": {},
   "outputs": [],
   "source": [
    "#uloženie trénovacích a testovacích množín\n",
    "x_test.to_csv('x_test_clanky_korona.csv',encoding='utf-8')\n",
    "y_test.to_csv('y_test_label_korona.csv',encoding='utf-8')\n",
    "\n",
    "x_test=pd.read_csv('x_test_clanky_korona.csv',encoding='utf-8')\n",
    "y_test=pd.read_csv('y_test_label_korona.csv',encoding='utf-8')\n",
    "\n",
    "x_train.to_csv('x_train_clanky_korona_nebalans.csv',encoding='utf-8')\n",
    "y_train.to_csv('y_train_label_korona_nebalans.csv',encoding='utf-8')\n",
    "\n",
    "x_train=pd.read_csv('x_train_clanky_korona_nebalans.csv',encoding='utf-8')\n",
    "\n",
    "x_train=x_train.drop(columns=[\"Unnamed: 0\"])\n",
    "x_test=x_test.drop(columns=[\"Unnamed: 0\"])\n",
    "y_test=y_test.drop(columns=[\"Unnamed: 0\"])"
   ]
  },
  {
   "cell_type": "markdown",
   "metadata": {},
   "source": [
    "#### Zadefinovanie slovenských stop slov. Stop slová predstavujú často vyskytujúce sa slová v texte no nemajú pre nás väčšinou žiaden význam. Za stop slová považujeme predložky, spojky, zámená, častice a podobne."
   ]
  },
  {
   "cell_type": "code",
   "execution_count": 18,
   "metadata": {},
   "outputs": [],
   "source": [
    "#definovanie slovenských stop slov\n",
    "stop_words = frozenset([\"tasr\",\"a\",\"aby\",\"aj\",\"ak\",\"ako\",\"ale\",\"alebo\",\"and\",\"ani\",\"áno\",\"asi\",\"až\",\"bez\",\"bude\",\"budem\",\"budeš\",\"budeme\",\"budete\",\"budú\",\"by\",\"bol\",\"bola\",\"boli\",\"bolo\",\"byť\",\"cez\",\"čo\",\"či\",\"ďalší\",\"ďalšia\",\"ďalšie\",\"dnes\",\"do\",\"ho\",\"ešte\",\"for\",\"i\",\"ja\",\"je\",\"jeho\",\"jej\",\"ich\",\"iba\",\"iné\",\"iný\",\"som\",\"si\",\"sme\",\"sú\",\"k\",\"kam\",\"každý\",\"každá\",\"každé\",\"každí\",\"kde\",\"keď\",\"kto\",\"ktorá\",\"ktoré\",\"ktorou\",\"ktorý\",\"ktorí\",\"ku\",\"lebo\",\"len\",\"ma\",\"mať\",\"má\",\"máte\",\"medzi\",\"mi\",\"mna\",\"mne\",\"mnou\",\"musieť\",\"môcť\",\"môj\",\"môže\",\"my\",\"na\",\"nad\",\"nám\",\"náš\",\"naši\",\"nie\",\"nech\",\"než\",\"nič\",\"niektorý\",\"nové\",\"nový\",\"nová\",\"noví\",\"o\",\"od\",\"odo\",\"of\",\"on\",\"ona\",\"ono\",\"oni\",\"ony\",\"po\",\"pod\",\"podľa\",\"pokiaľ\",\"potom\",\"práve\",\"pre\",\"prečo\",\"preto\",\"pretože\",\"prvý\",\"prvá\",\"prvé\",\"prví\",\"pred\",\"predo\",\"pri\",\"pýta\",\"s\",\"sa\",\"so\",\"svoje\",\"svoj\",\"svojich\",\"svojím\",\"svojími\",\"ta\",\"tak\",\"takže\",\"táto\",\"teda\",\"te\",\"tě\",\"ten\",\"tento\",\"the\",\"tieto\",\"tým\",\"týmto\",\"tiež\",\"to\",\"toto\",\"toho\",\"tohoto\",\"tom\",\"tomto\",\"tomuto\",\"tu\",\"tú\",\"túto\",\"tvoj\",\"ty\",\"tvojími\",\"už\",\"v\",\"vám\",\"váš\",\"vaše\",\"vo\",\"viac\",\"však\",\"všetok\",\"vy\",\"z\",\"za\",\"zo\",\"že\",\"buď\",\"ju\",\"menej\",\"moja\",\"moje\",\"späť\",\"ste\",\"tá\",\"tam\"])"
   ]
  },
  {
   "cell_type": "markdown",
   "metadata": {},
   "source": [
    "#### Nájdeme a vypíšeme najviac vyskytujúce sa slová v textoch článkoch, slová rozdelíme podľa toho, či sa vyskytujú vo falošných alebo v pravdivých správach."
   ]
  },
  {
   "cell_type": "code",
   "execution_count": 20,
   "metadata": {},
   "outputs": [
    {
     "data": {
      "text/html": [
       "<div>\n",
       "<style scoped>\n",
       "    .dataframe tbody tr th:only-of-type {\n",
       "        vertical-align: middle;\n",
       "    }\n",
       "\n",
       "    .dataframe tbody tr th {\n",
       "        vertical-align: top;\n",
       "    }\n",
       "\n",
       "    .dataframe thead th {\n",
       "        text-align: right;\n",
       "    }\n",
       "</style>\n",
       "<table border=\"1\" class=\"dataframe\">\n",
       "  <thead>\n",
       "    <tr style=\"text-align: right;\">\n",
       "      <th></th>\n",
       "      <th>negative</th>\n",
       "      <th>positive</th>\n",
       "      <th>total</th>\n",
       "    </tr>\n",
       "  </thead>\n",
       "  <tbody>\n",
       "    <tr>\n",
       "      <th>foto</th>\n",
       "      <td>12060</td>\n",
       "      <td>433</td>\n",
       "      <td>12493</td>\n",
       "    </tr>\n",
       "    <tr>\n",
       "      <th>koronavírusu</th>\n",
       "      <td>10860</td>\n",
       "      <td>809</td>\n",
       "      <td>11669</td>\n",
       "    </tr>\n",
       "    <tr>\n",
       "      <th>2020</th>\n",
       "      <td>10174</td>\n",
       "      <td>1133</td>\n",
       "      <td>11307</td>\n",
       "    </tr>\n",
       "    <tr>\n",
       "      <th>ľudí</th>\n",
       "      <td>7540</td>\n",
       "      <td>974</td>\n",
       "      <td>8514</td>\n",
       "    </tr>\n",
       "    <tr>\n",
       "      <th>hsp</th>\n",
       "      <td>8047</td>\n",
       "      <td>360</td>\n",
       "      <td>8407</td>\n",
       "    </tr>\n",
       "    <tr>\n",
       "      <th>19</th>\n",
       "      <td>6658</td>\n",
       "      <td>811</td>\n",
       "      <td>7469</td>\n",
       "    </tr>\n",
       "    <tr>\n",
       "      <th>covid</th>\n",
       "      <td>5785</td>\n",
       "      <td>791</td>\n",
       "      <td>6576</td>\n",
       "    </tr>\n",
       "    <tr>\n",
       "      <th>sita</th>\n",
       "      <td>5986</td>\n",
       "      <td>161</td>\n",
       "      <td>6147</td>\n",
       "    </tr>\n",
       "    <tr>\n",
       "      <th>sr</th>\n",
       "      <td>5292</td>\n",
       "      <td>436</td>\n",
       "      <td>5728</td>\n",
       "    </tr>\n",
       "    <tr>\n",
       "      <th>koronavírusom</th>\n",
       "      <td>4972</td>\n",
       "      <td>393</td>\n",
       "      <td>5365</td>\n",
       "    </tr>\n",
       "  </tbody>\n",
       "</table>\n",
       "</div>"
      ],
      "text/plain": [
       "               negative  positive  total\n",
       "foto              12060       433  12493\n",
       "koronavírusu      10860       809  11669\n",
       "2020              10174      1133  11307\n",
       "ľudí               7540       974   8514\n",
       "hsp                8047       360   8407\n",
       "19                 6658       811   7469\n",
       "covid              5785       791   6576\n",
       "sita               5986       161   6147\n",
       "sr                 5292       436   5728\n",
       "koronavírusom      4972       393   5365"
      ]
     },
     "execution_count": 20,
     "metadata": {},
     "output_type": "execute_result"
    }
   ],
   "source": [
    "#vypísanie TOP slov nachádzajúcich sa v článkoch pravdivých aj falošných\n",
    "cvec = CountVectorizer(stop_words=stop_words,max_features=10000) #pouzijeme stop slovo \n",
    "cvec.fit(korona.body)\n",
    "\n",
    "neg_doc_matrix = cvec.transform(korona[korona.label == 0].body)\n",
    "pos_doc_matrix = cvec.transform(korona[korona.label == 1].body)\n",
    "neg_tf = np.sum(neg_doc_matrix,axis=0)\n",
    "pos_tf = np.sum(pos_doc_matrix,axis=0)\n",
    "neg = np.squeeze(np.asarray(neg_tf))\n",
    "pos = np.squeeze(np.asarray(pos_tf))\n",
    "term_freq_df2 = pd.DataFrame([neg,pos],columns=cvec.get_feature_names()).transpose()\n",
    "term_freq_df2.columns = ['negative', 'positive']\n",
    "term_freq_df2['total'] = term_freq_df2['negative'] + term_freq_df2['positive']\n",
    "term_freq_df2.sort_values(by='total', ascending=False).iloc[:10]"
   ]
  },
  {
   "cell_type": "markdown",
   "metadata": {},
   "source": [
    "#### Nájdené najviac vyskytujúce sa slová zobrazíme pomocou grafu, ktorý zobrazí top 50 vyskytujúcich sa slov v právdivých článkoch a vo falošných článkoch."
   ]
  },
  {
   "cell_type": "code",
   "execution_count": 21,
   "metadata": {},
   "outputs": [
    {
     "data": {
      "text/plain": [
       "Text(0.5, 1.0, 'Top 50 slov v pravdivých správach')"
      ]
     },
     "execution_count": 21,
     "metadata": {},
     "output_type": "execute_result"
    },
    {
     "data": {
      "image/png": "[encoded data removed]",
      "text/plain": [
       "<Figure size 864x720 with 1 Axes>"
      ]
     },
     "metadata": {
      "image/png": {
       "height": 669,
       "width": 817
      },
      "needs_background": "light"
     },
     "output_type": "display_data"
    }
   ],
   "source": [
    "#graf TOP 50 slov vyskytujúcich sa v pravdivých správach\n",
    "y_pos = np.arange(50)\n",
    "plt.figure(figsize=(12,10))\n",
    "plt.bar(y_pos, term_freq_df2.sort_values(by='negative', ascending=False)['negative'][:50], align='center', alpha=0.5,color=[\"black\"])\n",
    "plt.xticks(y_pos, term_freq_df2.sort_values(by='negative', ascending=False)['negative'][:50].index,rotation='vertical')\n",
    "plt.ylabel('Početnosť')\n",
    "plt.xlabel('Slová')\n",
    "plt.title('Top 50 slov v pravdivých správach')"
   ]
  },
  {
   "cell_type": "code",
   "execution_count": 22,
   "metadata": {},
   "outputs": [
    {
     "data": {
      "text/plain": [
       "Text(0.5, 1.0, 'Top 50 slov vo falošných správach')"
      ]
     },
     "execution_count": 22,
     "metadata": {},
     "output_type": "execute_result"
    },
    {
     "data": {
      "image/png": "[encoded data removed]",
      "text/plain": [
       "<Figure size 864x720 with 1 Axes>"
      ]
     },
     "metadata": {
      "image/png": {
       "height": 669,
       "width": 811
      },
      "needs_background": "light"
     },
     "output_type": "display_data"
    }
   ],
   "source": [
    "##graf TOP 50 slov vyskytujúcich sa vo falošných správach\n",
    "y_pos = np.arange(50)\n",
    "plt.figure(figsize=(12,10))\n",
    "plt.bar(y_pos, term_freq_df2.sort_values(by='positive', ascending=False)['positive'][:50], align='center', alpha=0.5,color=[\"black\"])\n",
    "plt.xticks(y_pos, term_freq_df2.sort_values(by='positive', ascending=False)['positive'][:50].index,rotation='vertical')\n",
    "plt.ylabel('Početnosť')\n",
    "plt.xlabel('Slová')\n",
    "plt.title('Top 50 slov vo falošných správach')"
   ]
  },
  {
   "cell_type": "markdown",
   "metadata": {},
   "source": [
    "#### V príprave dát do podoby vhodnej pre modelovanie musíme texty článkov vyčistiť a to vymazať interpunkčné znamienka, odkazy na internetové stránky, odkazy obrázkov, odkazy zdrojov, ponechať iba písmená abecedy a zjednotiť text na malé písmená."
   ]
  },
  {
   "cell_type": "code",
   "execution_count": 23,
   "metadata": {},
   "outputs": [],
   "source": [
    "#definovanie, čo sa má z textu odstrániť\n",
    "tok = WordPunctTokenizer()\n",
    "\n",
    "pat1 = r'@[A-Za-z0-9_]+' #odstránenie @\n",
    "pat2 = r'https?://[^ ]+' #odstránenie odkazov https\n",
    "combined_pat = r'|'.join((pat1, pat2)) #kombinovane odstránenie pat1 aj pat2\n",
    "www_pat = r'www.[^ ]+' #odstránenie odkazov www\n",
    "pat3=r'http?://[^ ]+' #odstránenie odkazov http\n",
    "combined_pat2 = r'|'.join((www_pat, pat3)) \n",
    "\n",
    "pat4=r'img src=[^ ]+' #odstránenie odkazu na obrázok\n",
    "pat5=r'\\(SITA/[^)]*\\)' #odstránenie konkrétneho odkazu začínajúceho sa zdrojom SITA\n",
    "combined_pat3= r'|'.join((pat4, pat5)) \n",
    "pat6=r'\\(HSP/[^)]*\\)' #odstránenie konkrétneho odkazu začínajúceho sa zdrojom HSP\n",
    "pat7=r'\\(TASR/[^)]*\\)' #odstránenie konkrétneho odkazu začínajúceho sa zdrojom TASR\n",
    "combined_pat4= r'|'.join((pat6, pat7)) "
   ]
  },
  {
   "cell_type": "code",
   "execution_count": 24,
   "metadata": {},
   "outputs": [],
   "source": [
    "def cleaner(text):\n",
    "    soup = BeautifulSoup(text, 'lxml') #dekódovanie html na všeobecný text\n",
    "    souped = soup.get_text()\n",
    "    try:\n",
    "        bom_removed = souped.replace(\"ï¿½\", \"?\") #ošetrenie chyby keď nedekóduje dobre\n",
    "    except:\n",
    "        bom_removed = souped\n",
    "    stripped3 = re.sub(combined_pat, '', bom_removed)\n",
    "    stripped2= re.sub(combined_pat2, '', stripped3)\n",
    "    stripped1 = re.sub(combined_pat3, '', stripped2)\n",
    "    stripped = re.sub(combined_pat4, '', stripped1)\n",
    "    lower_case = stripped.lower()\n",
    "    letters_only = re.sub(\"[^a-zA-Z\\ÆÐƎƏƐƔĲŊŒẞÞǷȜæðǝəɛɣĳŋœĸſßþƿȝĄƁÇĐƊĘĦĮƘŁØƠŞȘŢȚŦŲƯY̨Ƴąɓçđɗęħįƙłøơşșţțŧųưy̨ƴÁÀÂÄǍĂĀÃÅǺĄÆǼǢƁĆĊĈČÇĎḌĐƊÐÉÈĖÊËĚĔĒĘẸƎƏƐĠĜǦĞĢƔáàâäǎăāãåǻąæǽǣɓćċĉčçďḍđɗðéèėêëěĕēęẹǝəɛġĝǧğģɣĤḤĦIÍÌİÎÏǏĬĪĨĮỊĲĴĶƘĹĻŁĽĿNŃN̈ŇÑŅŊÓÒÔÖǑŎŌÕŐỌØǾƠŒĥḥħıíìiîïǐĭīĩįịĳĵķƙĸĺļłľŀŉńn̈ňñņŋóòôöǒŏōõőọøǿơœŔŘŖŚŜŠŞȘṢẞŤŢṬŦÞÚÙÛÜǓŬŪŨŰŮŲỤƯẂẀŴẄǷÝỲŶŸȲỸƳŹŻŽẒŕřŗſśŝšşșṣßťţṭŧþúùûüǔŭūũűůųụưẃẁŵẅƿýỳŷÿȳỹƴźżžẓ]\", \" \", lower_case)\n",
    "    words = [x for x  in tok.tokenize(letters_only) if len(x) > 1]\n",
    "    return (\" \".join(words)).strip()"
   ]
  },
  {
   "cell_type": "code",
   "execution_count": 25,
   "metadata": {},
   "outputs": [],
   "source": [
    "#čistenie textu na trénovacej a testovacej množine\n",
    "testing_train = x_train.body[0:(len(x_train))]\n",
    "test_result_train = []\n",
    "for t in testing_train:\n",
    "    test_result_train.append(cleaner(t))\n",
    "\n",
    "\n",
    "testing_test = x_test.body[0:(len(x_test))]\n",
    "test_result_test = []\n",
    "for t in testing_test:\n",
    "    test_result_test.append(cleaner(t))"
   ]
  },
  {
   "cell_type": "code",
   "execution_count": 26,
   "metadata": {},
   "outputs": [],
   "source": [
    "#vytvorenie dataframe clean_df\n",
    "clean_train = pd.DataFrame(test_result_train,columns=['body'])\n",
    "clean_train['label'] = x_train.label #pridanie stĺpca label\n",
    "\n",
    "clean_test = pd.DataFrame(test_result_test,columns=['body'])\n",
    "clean_test['label'] = x_test.label "
   ]
  },
  {
   "cell_type": "code",
   "execution_count": 27,
   "metadata": {},
   "outputs": [],
   "source": [
    "#uloženie vyčisteného textu\n",
    "clean_train.to_csv('clean_train_korona_nebalansbezstop.csv',encoding='utf-8')\n",
    "csv_train = 'clean_train_korona_nebalansbezstop.csv'\n",
    "df_train = pd.read_csv(csv_train,index_col=0)\n",
    "\n",
    "clean_test.to_csv('clean_test_korona.csv',encoding='utf-8')\n",
    "csv_test = 'clean_test_korona.csv'\n",
    "df_test = pd.read_csv(csv_test,index_col=0)"
   ]
  },
  {
   "cell_type": "markdown",
   "metadata": {},
   "source": [
    "#### Po vyčístení textu vymažeme potencionálne prázdne hodnoty, kde sa po definovaní kritérií vyčistenia mohlo stať, že bežný text v bunke nezostal. "
   ]
  },
  {
   "cell_type": "code",
   "execution_count": 28,
   "metadata": {},
   "outputs": [],
   "source": [
    "df_train.dropna(inplace=True) #vymazanie prázdnych hodnôt\n",
    "df_train.reset_index(drop=True,inplace=True)\n",
    "\n",
    "df_test.dropna(inplace=True) #vymazanie prázdnych hodnôt\n",
    "df_test.reset_index(drop=True,inplace=True)"
   ]
  },
  {
   "cell_type": "code",
   "execution_count": 29,
   "metadata": {},
   "outputs": [
    {
     "data": {
      "text/html": [
       "<div>\n",
       "<style scoped>\n",
       "    .dataframe tbody tr th:only-of-type {\n",
       "        vertical-align: middle;\n",
       "    }\n",
       "\n",
       "    .dataframe tbody tr th {\n",
       "        vertical-align: top;\n",
       "    }\n",
       "\n",
       "    .dataframe thead th {\n",
       "        text-align: right;\n",
       "    }\n",
       "</style>\n",
       "<table border=\"1\" class=\"dataframe\">\n",
       "  <thead>\n",
       "    <tr style=\"text-align: right;\">\n",
       "      <th></th>\n",
       "      <th>body</th>\n",
       "      <th>label</th>\n",
       "    </tr>\n",
       "  </thead>\n",
       "  <tbody>\n",
       "    <tr>\n",
       "      <th>0</th>\n",
       "      <td>zatiaľ čo európu paralyzuje koronavírus stále ...</td>\n",
       "      <td>0</td>\n",
       "    </tr>\n",
       "    <tr>\n",
       "      <th>1</th>\n",
       "      <td>čím je človek odolnejší so silnejšou imunitou ...</td>\n",
       "      <td>0</td>\n",
       "    </tr>\n",
       "    <tr>\n",
       "      <th>2</th>\n",
       "      <td>bratislava júna počet prípadov partnerského ná...</td>\n",
       "      <td>0</td>\n",
       "    </tr>\n",
       "    <tr>\n",
       "      <th>3</th>\n",
       "      <td>chorvátsku sa výrazne znížil denný nárast ľudí...</td>\n",
       "      <td>0</td>\n",
       "    </tr>\n",
       "    <tr>\n",
       "      <th>4</th>\n",
       "      <td>praha mája predseda hnutia trikolora václav kl...</td>\n",
       "      <td>0</td>\n",
       "    </tr>\n",
       "  </tbody>\n",
       "</table>\n",
       "</div>"
      ],
      "text/plain": [
       "                                                body  label\n",
       "0  zatiaľ čo európu paralyzuje koronavírus stále ...      0\n",
       "1  čím je človek odolnejší so silnejšou imunitou ...      0\n",
       "2  bratislava júna počet prípadov partnerského ná...      0\n",
       "3  chorvátsku sa výrazne znížil denný nárast ľudí...      0\n",
       "4  praha mája predseda hnutia trikolora václav kl...      0"
      ]
     },
     "execution_count": 29,
     "metadata": {},
     "output_type": "execute_result"
    }
   ],
   "source": [
    "#ukážka vyčistenej dátovej množiny\n",
    "df_train.head()"
   ]
  },
  {
   "cell_type": "code",
   "execution_count": 30,
   "metadata": {},
   "outputs": [
    {
     "data": {
      "text/plain": [
       "0    8984\n",
       "1     631\n",
       "Name: label, dtype: int64"
      ]
     },
     "execution_count": 30,
     "metadata": {},
     "output_type": "execute_result"
    }
   ],
   "source": [
    "df_train.label.value_counts()"
   ]
  },
  {
   "cell_type": "code",
   "execution_count": 31,
   "metadata": {},
   "outputs": [
    {
     "data": {
      "text/plain": [
       "0    3901\n",
       "1     220\n",
       "Name: label, dtype: int64"
      ]
     },
     "execution_count": 31,
     "metadata": {},
     "output_type": "execute_result"
    }
   ],
   "source": [
    "df_test.label.value_counts()"
   ]
  },
  {
   "cell_type": "markdown",
   "metadata": {},
   "source": [
    "#### Po vyčistení textu pokračujeme vytvorením tokenov z príslušných slov z textu a ich následným prevodom do vektorovej reprezentácie slov tzv. word embeddings. Na vytvorenie word embeddings použijeme nástroj Word2Vec, ktorý je implementovaný pomocou knižnice Gensim, kde výstupom bude množina vektorov. Pripravené vektory prevedieme na tokenizované a ich dĺžky zarovnáme na rovnaké doplnením nulových indexov."
   ]
  },
  {
   "cell_type": "code",
   "execution_count": 32,
   "metadata": {},
   "outputs": [],
   "source": [
    "#vytvorenie tokenom zo slov pre trénovaciu a testovaciu množinu\n",
    "df_token_train = df_train['body'].values.tolist()\n",
    "\n",
    "token_train=list()\n",
    "for i in df_token_train:\n",
    "    word_train=nltk.word_tokenize(i)\n",
    "    word_train = [w for w in word_train if not w in stop_words]\n",
    "    token_train.append(word_train)\n",
    "\n",
    "\n",
    "df_token_test = df_test['body'].values.tolist()\n",
    "\n",
    "token_test=list()\n",
    "for i in df_token_test:\n",
    "    word_test=nltk.word_tokenize(i)\n",
    "    word_test = [w for w in word_test if not w in stop_words]\n",
    "    token_test.append(word_test)"
   ]
  },
  {
   "cell_type": "code",
   "execution_count": 33,
   "metadata": {},
   "outputs": [],
   "source": [
    "#word embeddings pomocou Word2Vec\n",
    "model = Word2Vec(token_train, min_count = 1)\n",
    "vocabulary = model.wv.vocab\n",
    "\n",
    "name = 'w2v.txt'\n",
    "model.wv.save_word2vec_format(name, binary = False)\n",
    "\n",
    "embeddings_index = {}\n",
    "f = open(os.path.join('','w2v.txt'), encoding = \"utf-8\")\n",
    "for line in f:\n",
    "    values = line.split()\n",
    "    word_train = values[0]\n",
    "    coefs = np.asarray(values[1:])\n",
    "    embeddings_index[word_train] = coefs\n",
    "f.close()"
   ]
  },
  {
   "cell_type": "code",
   "execution_count": 34,
   "metadata": {},
   "outputs": [
    {
     "name": "stdout",
     "output_type": "stream",
     "text": [
      "Najdenych 118919 jedinecnych tokenov.\n"
     ]
    }
   ],
   "source": [
    "max_length = 3700\n",
    "\n",
    "tokenizer = Tokenizer()\n",
    "tokenizer.fit_on_texts(token_train)\n",
    "\n",
    "seq_train = tokenizer.texts_to_sequences(token_train)\n",
    "seq_test = tokenizer.texts_to_sequences(token_test)\n",
    "\n",
    "word_index = tokenizer.word_index\n",
    "print('Najdenych %s jedinecnych tokenov.' %len (word_index))\n",
    "\n",
    "train_padding = pad_sequences(seq_train, max_length)\n",
    "test_padding = pad_sequences(seq_test, max_length)"
   ]
  },
  {
   "cell_type": "code",
   "execution_count": 35,
   "metadata": {},
   "outputs": [],
   "source": [
    "EMBEDDING_DIM = 100\n",
    "num_words = len(word_index) + 1\n",
    "embedding_matrix = np.zeros((num_words, EMBEDDING_DIM))\n",
    "\n",
    "for word_train, ii in word_index.items():\n",
    "    if ii > num_words:\n",
    "        continue\n",
    "    embedding_vector = embeddings_index.get(word_train)\n",
    "    if embedding_vector is not None:\n",
    "        embedding_matrix[ii] = embedding_vector"
   ]
  },
  {
   "cell_type": "code",
   "execution_count": 36,
   "metadata": {},
   "outputs": [],
   "source": [
    "y_train = df_train['label'].values\n",
    "y_test = df_test['label'].values"
   ]
  },
  {
   "cell_type": "markdown",
   "metadata": {},
   "source": [
    "#### Po pochopení dát a príprave dát prejdeme do fázy modelovania, kde vytvoríme dokopy 3 modely, ktoré vyhodnodnotíme pomocou kontingenčných tabuliek, úspešnosti, návratnosti, F1 skóre...\n",
    "\n",
    "#### Prvý model je model neurónovej siete s konvolučnou vrstvou, s ReLu a Sigmoid aktivačnou funkciou a optimalizátorom Adam."
   ]
  },
  {
   "cell_type": "code",
   "execution_count": 37,
   "metadata": {},
   "outputs": [
    {
     "name": "stdout",
     "output_type": "stream",
     "text": [
      "Model: \"model_1\"\n",
      "_________________________________________________________________\n",
      "Layer (type)                 Output Shape              Param #   \n",
      "=================================================================\n",
      "input_1 (InputLayer)         (None, 3700)              0         \n",
      "_________________________________________________________________\n",
      "embedding_1 (Embedding)      (None, 3700, 100)         11892000  \n",
      "_________________________________________________________________\n",
      "conv1d_1 (Conv1D)            (None, 3699, 100)         20100     \n",
      "_________________________________________________________________\n",
      "global_max_pooling1d_1 (Glob (None, 100)               0         \n",
      "_________________________________________________________________\n",
      "dense_1 (Dense)              (None, 256)               25856     \n",
      "_________________________________________________________________\n",
      "dense_2 (Dense)              (None, 1)                 257       \n",
      "=================================================================\n",
      "Total params: 11,938,213\n",
      "Trainable params: 11,938,213\n",
      "Non-trainable params: 0\n",
      "_________________________________________________________________\n",
      "None\n"
     ]
    }
   ],
   "source": [
    "#architektúra CNN modelu\n",
    "inputs = Input(shape=(max_length,))\n",
    "x = Embedding(num_words, EMBEDDING_DIM, weights=[embedding_matrix])(inputs)\n",
    "x = Conv1D(filters=100, kernel_size=2, padding='valid', activation='relu', strides=1)(x)\n",
    "x = GlobalMaxPooling1D()(x)\n",
    "x = Dense(256, activation='relu')(x)\n",
    "output = Dense(1, activation='sigmoid')(x)\n",
    "model_cnn = Model(inputs=inputs, outputs=output)\n",
    "model_cnn.compile(loss='binary_crossentropy', optimizer='adam', metrics=['acc'])\n",
    "print(model_cnn.summary())"
   ]
  },
  {
   "cell_type": "code",
   "execution_count": null,
   "metadata": {},
   "outputs": [],
   "source": [
    "#uloženie modelu\n",
    "saved_model = \"model_cnn_korona_bezstop.hdf5\"\n",
    "checkpoint = ModelCheckpoint(saved_model, monitor='val_acc', verbose=1, save_best_only=True, mode='max')"
   ]
  },
  {
   "cell_type": "code",
   "execution_count": null,
   "metadata": {},
   "outputs": [],
   "source": [
    "#trénovanie modelu\n",
    "history = model_cnn.fit(train_padding, y_train, epochs=5, batch_size=32, validation_split=0.1, callbacks=[checkpoint])"
   ]
  },
  {
   "cell_type": "code",
   "execution_count": null,
   "metadata": {},
   "outputs": [],
   "source": [
    "#načítanie modelu\n",
    "model_cnn=load_model('model_cnn_korona_bezstop.hdf5')\n",
    "\n",
    "#predikcia na testovacích dátach pomocou natrénovaného modelu,\n",
    "#vypísanie kontingenčnej tabuľky a metrík na vyhodnotenie ako úspešnosť, návrtanosť, F1 ...\n",
    "y_cnn = model_cnn.predict(test_padding)\n",
    "print('Roc auc score is {}'.format(roc_auc_score(y_test, y_cnn)))\n",
    "y_int = np.zeros_like(y_cnn)\n",
    "y_int[y_cnn > 0.5] = 1\n",
    "print('Accuracy is {}'.format(accuracy_score(y_test,y_int)))\n",
    "\n",
    "print(classification_report(y_test, y_int, zero_division=0))\n",
    "print(confusion_matrix(y_test, y_int))"
   ]
  },
  {
   "cell_type": "markdown",
   "metadata": {},
   "source": [
    "|              | Precision | Recall | F1-score | Support |\n",
    "|:------------:|:---------:|:------:|:--------:|:-------:|\n",
    "|       0      |    0.98   |  1.00  |   0.99   |   3901  |\n",
    "|       1      |    0.98   |  0.62  |   0.76   |   220   |\n",
    "|              |           |        |          |         |\n",
    "|   Accuracy   |           |        |   0.98   |   4121  |\n",
    "|   Macro avg  |    0.98   |  0.81  |   0.88   |   4121  |\n",
    "| Weighted avg |    0.98   |  0.98  |   0.98   |   4121  |"
   ]
  },
  {
   "cell_type": "markdown",
   "metadata": {},
   "source": [
    "Accuracy : 0.956238\n",
    "\n",
    "ROC : 0.979131"
   ]
  },
  {
   "cell_type": "markdown",
   "metadata": {},
   "source": [
    "| Actual/Predicted | Fake news | True news |\n",
    "|------------------|-----------|-----------|\n",
    "| Fake news        |   TP-137  |   FN-83   |\n",
    "| True news        |   FP-3  |  TN-3898  |"
   ]
  },
  {
   "cell_type": "markdown",
   "metadata": {},
   "source": [
    "#### Druhý model je model neurónovej siete s rekurentnou LSTM vrstvou, s ReLu a Sigmoid aktivačnou funkciou a optimalizátorom Adam."
   ]
  },
  {
   "cell_type": "code",
   "execution_count": 38,
   "metadata": {},
   "outputs": [
    {
     "name": "stdout",
     "output_type": "stream",
     "text": [
      "Model: \"model_2\"\n",
      "_________________________________________________________________\n",
      "Layer (type)                 Output Shape              Param #   \n",
      "=================================================================\n",
      "input_2 (InputLayer)         (None, 3700)              0         \n",
      "_________________________________________________________________\n",
      "embedding_2 (Embedding)      (None, 3700, 100)         11892000  \n",
      "_________________________________________________________________\n",
      "lstm_1 (LSTM)                (None, 128)               117248    \n",
      "_________________________________________________________________\n",
      "dropout_1 (Dropout)          (None, 128)               0         \n",
      "_________________________________________________________________\n",
      "dense_3 (Dense)              (None, 128)               16512     \n",
      "_________________________________________________________________\n",
      "dense_4 (Dense)              (None, 1)                 129       \n",
      "=================================================================\n",
      "Total params: 12,025,889\n",
      "Trainable params: 12,025,889\n",
      "Non-trainable params: 0\n",
      "_________________________________________________________________\n",
      "None\n"
     ]
    }
   ],
   "source": [
    "#architektúra LSTM modelu\n",
    "inputs = Input(shape=(max_length,))\n",
    "x = Embedding(num_words, EMBEDDING_DIM, weights=[embedding_matrix])(inputs)\n",
    "x = LSTM(128)(x)\n",
    "x = Dropout(0.2)(x)\n",
    "x = Dense(128, activation='relu')(x)\n",
    "output = Dense(1, activation='sigmoid')(x)\n",
    "model_lstm = Model(inputs=inputs, outputs=output)\n",
    "model_lstm.compile(loss='binary_crossentropy', optimizer='adam', metrics=['acc'])\n",
    "print(model_lstm.summary())"
   ]
  },
  {
   "cell_type": "code",
   "execution_count": null,
   "metadata": {},
   "outputs": [],
   "source": [
    "#uloženie modelu\n",
    "saved_model = \"model_lstm_korona_bezstop.hdf5\"\n",
    "checkpoint = ModelCheckpoint(saved_model, monitor='val_acc', verbose=1, save_best_only=True, mode='max')"
   ]
  },
  {
   "cell_type": "code",
   "execution_count": null,
   "metadata": {},
   "outputs": [],
   "source": [
    "#trénovanie modelu\n",
    "history = model_lstm.fit(train_padding, y_train, epochs=5, batch_size=32, validation_split=0.1, callbacks=[checkpoint])"
   ]
  },
  {
   "cell_type": "code",
   "execution_count": null,
   "metadata": {},
   "outputs": [],
   "source": [
    "#načítanie modelu\n",
    "model_lstm=load_model('model_lstm_korona_bezstop.hdf5')\n",
    "\n",
    "#predikcia na testovacích dátach pomocou natrénovaného modelu,\n",
    "#vypísanie kontingenčnej tabuľky a metrík na vyhodnotenie ako úspešnosť, návrtanosť, F1 ...\n",
    "y_cnn = model_lstm.predict(test_padding)\n",
    "print('Roc auc score is {}'.format(roc_auc_score(y_test, y_cnn)))\n",
    "y_int = np.zeros_like(y_cnn)\n",
    "y_int[y_cnn > 0.5] = 1\n",
    "print('Accuracy is {}'.format(accuracy_score(y_test,y_int)))\n",
    "\n",
    "print(classification_report(y_test, y_int, zero_division=0))\n",
    "print(confusion_matrix(y_test, y_int))"
   ]
  },
  {
   "cell_type": "markdown",
   "metadata": {},
   "source": [
    "|              | Precision | Recall | F1-score | Support |\n",
    "|:------------:|:---------:|:------:|:--------:|:-------:|\n",
    "|       0      |    0.99   |  1.00  |   0.99   |   3901  |\n",
    "|       1      |    0.96   |  0.78  |   0.86   |   220   |\n",
    "|              |           |        |          |         |\n",
    "|   Accuracy   |           |        |   0.99   |   4121  |\n",
    "|   Macro avg  |    0.97   |  0.89  |   0.93   |   4121  |\n",
    "| Weighted avg |    0.99   |  0.99  |   0.99   |   4121  |"
   ]
  },
  {
   "cell_type": "markdown",
   "metadata": {},
   "source": [
    "Accuracy : 0.986654\n",
    "\n",
    "ROC : 0.948821"
   ]
  },
  {
   "cell_type": "markdown",
   "metadata": {},
   "source": [
    "| Actual/Predicted | Fake news | True news |\n",
    "|------------------|-----------|-----------|\n",
    "| Fake news        |   TP-172  |   FN-48   |\n",
    "| True news        |   FP-7  |  TN-3894  |"
   ]
  },
  {
   "cell_type": "markdown",
   "metadata": {},
   "source": [
    "#### Tretí model je model neurónovej siete s obojstrannou rekurentnou LSTM vrstvou a konvolučnou vrstvou, s ReLu a Sigmoid aktivačnou funkciou a optimalizátorom Adam."
   ]
  },
  {
   "cell_type": "code",
   "execution_count": 39,
   "metadata": {},
   "outputs": [
    {
     "name": "stdout",
     "output_type": "stream",
     "text": [
      "Model: \"model_3\"\n",
      "_________________________________________________________________\n",
      "Layer (type)                 Output Shape              Param #   \n",
      "=================================================================\n",
      "input_3 (InputLayer)         (None, 3700)              0         \n",
      "_________________________________________________________________\n",
      "embedding_3 (Embedding)      (None, 3700, 100)         11892000  \n",
      "_________________________________________________________________\n",
      "spatial_dropout1d_1 (Spatial (None, 3700, 100)         0         \n",
      "_________________________________________________________________\n",
      "bidirectional_1 (Bidirection (None, 3700, 128)         84480     \n",
      "_________________________________________________________________\n",
      "conv1d_2 (Conv1D)            (None, 3698, 32)          12320     \n",
      "_________________________________________________________________\n",
      "global_max_pooling1d_2 (Glob (None, 32)                0         \n",
      "_________________________________________________________________\n",
      "dense_5 (Dense)              (None, 64)                2112      \n",
      "_________________________________________________________________\n",
      "dropout_2 (Dropout)          (None, 64)                0         \n",
      "_________________________________________________________________\n",
      "dense_6 (Dense)              (None, 1)                 65        \n",
      "=================================================================\n",
      "Total params: 11,990,977\n",
      "Trainable params: 11,990,977\n",
      "Non-trainable params: 0\n",
      "_________________________________________________________________\n",
      "None\n"
     ]
    }
   ],
   "source": [
    "#architektúra Bi-LSTM + CNN modelu\n",
    "inputs = Input(shape=(max_length,))\n",
    "x = Embedding(num_words, EMBEDDING_DIM, weights=[embedding_matrix])(inputs)\n",
    "x = SpatialDropout1D(0.2)(x)\n",
    "x = Bidirectional(LSTM(64, return_sequences=True,dropout=0.1,recurrent_dropout=0.1))(x)\n",
    "x = Conv1D(32, kernel_size = 3, padding = \"valid\", kernel_initializer = \"glorot_uniform\")(x)\n",
    "x = GlobalMaxPooling1D()(x)\n",
    "x = Dense(64, activation='relu')(x)\n",
    "x = Dropout(0.2)(x)\n",
    "output = Dense(1, activation='sigmoid')(x)\n",
    "model_bilstm = Model(inputs=inputs, outputs=output)\n",
    "model_bilstm.compile(loss='binary_crossentropy', optimizer='adam', metrics=['acc'])\n",
    "print(model_bilstm.summary())"
   ]
  },
  {
   "cell_type": "code",
   "execution_count": null,
   "metadata": {},
   "outputs": [],
   "source": [
    "#uloženie modelu\n",
    "saved_model = \"model_bilstm_korona_bezstop.hdf5\"\n",
    "checkpoint = ModelCheckpoint(saved_model, monitor='val_acc', verbose=1, save_best_only=True, mode='max')"
   ]
  },
  {
   "cell_type": "code",
   "execution_count": null,
   "metadata": {},
   "outputs": [],
   "source": [
    "#trénovanie modelu\n",
    "history = model_bilstm.fit(train_padding, y_train, epochs=5, batch_size=32, validation_split=0.1, callbacks=[checkpoint])"
   ]
  },
  {
   "cell_type": "code",
   "execution_count": null,
   "metadata": {},
   "outputs": [],
   "source": [
    "#načítanie modelu\n",
    "model_bilstm=load_model('model_bilstm_korona_bezstop.hdf5')\n",
    "\n",
    "#predikcia na testovacích dátach pomocou natrénovaného modelu,\n",
    "#vypísanie kontingenčnej tabuľky a metrík na vyhodnotenie ako úspešnosť, návrtanosť, F1 ...\n",
    "y_cnn = model_bilstm.predict(test_padding)\n",
    "print('Roc auc score is {}'.format(roc_auc_score(y_test, y_cnn)))\n",
    "y_int = np.zeros_like(y_cnn)\n",
    "y_int[y_cnn > 0.5] = 1\n",
    "print('Accuracy is {}'.format(accuracy_score(y_test,y_int)))\n",
    "\n",
    "print(classification_report(y_test, y_int, zero_division=0))\n",
    "print(confusion_matrix(y_test, y_int))"
   ]
  },
  {
   "cell_type": "markdown",
   "metadata": {},
   "source": [
    "|              | Precision | Recall | F1-score | Support |\n",
    "|:------------:|:---------:|:------:|:--------:|:-------:|\n",
    "|       0      |    0.99   |  1.00  |   0.99   |   3901  |\n",
    "|       1      |    0.97   |  0.79  |   0.87   |   220   |\n",
    "|              |           |        |          |         |\n",
    "|   Accuracy   |           |        |   0.99   |   4121  |\n",
    "|   Macro avg  |    0.98   |  0.89  |   0.93   |   4121  |\n",
    "| Weighted avg |    0.99   |  0.99  |   0.99   |   4121  |"
   ]
  },
  {
   "cell_type": "markdown",
   "metadata": {},
   "source": [
    "Accuracy : 0.987624\n",
    "\n",
    "ROC : 0.973588"
   ]
  },
  {
   "cell_type": "markdown",
   "metadata": {},
   "source": [
    "| Actual/Predicted | Fake news | True news |\n",
    "|------------------|-----------|-----------|\n",
    "| Fake news        |   TP-174  |   FN-46   |\n",
    "| True news        |   FP-5  |  TN-3896  |"
   ]
  },
  {
   "cell_type": "markdown",
   "metadata": {},
   "source": [
    "#### Pre model, ktorého úspešnosť bola najvyššia vykonáme optimalizáciu hyperparametrov prostredníctvom metódy Grid search. Definujeme súbor parametrov, pre ktoré bude Grid search vykonávať kombinácie možností. "
   ]
  },
  {
   "cell_type": "code",
   "execution_count": null,
   "metadata": {},
   "outputs": [],
   "source": [
    "#definovanie modelu Bi-LSTM + CNN pre optimalizáciu hyperparametrov pomocou Grid search\n",
    "def bilstm_model(dropout_rate=0.2, activation='relu',optimizer='adam'):\n",
    "    inputs = Input(shape=(max_length,))\n",
    "    x = Embedding(num_words, EMBEDDING_DIM, weights=[embedding_matrix])(inputs)\n",
    "    x = SpatialDropout1D(dropout_rate)(x)\n",
    "    x = Bidirectional(LSTM(64, return_sequences=True,dropout=0.1,recurrent_dropout=0.1))(x)\n",
    "    x = Conv1D(32, kernel_size = 3, padding = \"valid\", kernel_initializer = \"glorot_uniform\")(x)\n",
    "    x = GlobalMaxPooling1D()(x)\n",
    "    x = Dense(64, activation='relu')(x)\n",
    "    x = Dropout(dropout_rate)(x)\n",
    "    output = Dense(1, activation='sigmoid')(x)\n",
    "    model = Model(inputs=inputs, outputs=output)\n",
    "    model.compile(loss='binary_crossentropy', optimizer=optimizer, metrics=['acc'])\n",
    "    return model"
   ]
  },
  {
   "cell_type": "code",
   "execution_count": null,
   "metadata": {},
   "outputs": [],
   "source": [
    "model=KerasClassifier(build_fn=bilstm_model, epochs=5)\n",
    "\n",
    "import sys\n",
    "class Tee(object):\n",
    "    def __init__(self, *files):\n",
    "        self.files = files\n",
    "    def write(self, obj):\n",
    "        for f in self.files:\n",
    "            f.write(obj)\n",
    "            f.flush() \n",
    "    def flush(self) :\n",
    "        for f in self.files:\n",
    "            f.flush()"
   ]
  },
  {
   "cell_type": "code",
   "execution_count": null,
   "metadata": {},
   "outputs": [],
   "source": [
    "#definovanie parametrov pre Grid search \n",
    "dropout_rate = [0.1, 0.2]\n",
    "batch_size = [16, 32]\n",
    "optimizer = ['SGD','Adam']\n",
    "f = open('out_korona.txt', 'w')\n",
    "original = sys.stdout\n",
    "sys.stdout = Tee(sys.stdout, f)"
   ]
  },
  {
   "cell_type": "code",
   "execution_count": null,
   "metadata": {},
   "outputs": [],
   "source": [
    "param_grid = dict(batch_size=batch_size, dropout_rate=dropout_rate, optimizer=optimizer)\n",
    "grid = GridSearchCV(estimator=model, param_grid=param_grid, cv=2)"
   ]
  },
  {
   "cell_type": "code",
   "execution_count": null,
   "metadata": {},
   "outputs": [],
   "source": [
    "#trénovanie optimalizácie Grid search\n",
    "grid_result = grid.fit(train_padding, y_train, verbose=2)\n",
    "\n",
    "#výsledky po Grid search\n",
    "print(\"Best: %f using %s\" % (grid_result.best_score_, grid_result.best_params_))\n",
    "means_acc = grid_result.cv_results_['mean_test_score']\n",
    "stds_acc = grid_result.cv_results_['std_test_score']\n",
    "params_acc = grid_result.cv_results_['params']\n",
    "\n",
    "for  means_acc, stds_acc, params_acc in zip(means_acc, stds_acc, params_acc):\n",
    "    print(\"%f (%f) with: %r\" % (means_acc, stds_acc, params_acc))"
   ]
  },
  {
   "cell_type": "markdown",
   "metadata": {},
   "source": [
    "Best: 0.975661 using {'batch_size': 32, 'dropout_rate': 0.1, 'optimizer': 'Adam'}<br/>\n",
    "0.948199 (0.007708) with: {'batch_size': 16, 'dropout_rate': 0.1, 'optimizer': 'SGD'}<br/>\n",
    "0.975453 (0.000411) with: {'batch_size': 16, 'dropout_rate': 0.1, 'optimizer': 'Adam'}<br/>\n",
    "0.948826 (0.008727) with: {'batch_size': 16, 'dropout_rate': 0.2, 'optimizer': 'SGD'}<br/>\n",
    "0.974621 (0.000827) with: {'batch_size': 16, 'dropout_rate': 0.2, 'optimizer': 'Adam'}<br/>\n",
    "0.934470 (0.001886) with: {'batch_size': 32, 'dropout_rate': 0.1, 'optimizer': 'SGD'}<br/>\n",
    "0.975661 (0.001867) with: {'batch_size': 32, 'dropout_rate': 0.1, 'optimizer': 'Adam'}<br/>\n",
    "0.934470 (0.001886) with: {'batch_size': 32, 'dropout_rate': 0.2, 'optimizer': 'SGD'}<br/>\n",
    "0.973373 (0.002491) with: {'batch_size': 32, 'dropout_rate': 0.2, 'optimizer': 'Adam'}<br/>"
   ]
  },
  {
   "cell_type": "markdown",
   "metadata": {},
   "source": [
    "#### Najlepšia kombinácia parametrov pri Grid search vyšla pri dropout_rate odlišná, ako pri modelovaní, ktoré bolo vykonané vyššie. Preto ideme následne model pretrénovať a dropout rate nastavíme z pôvodného 0.2 na 0.1."
   ]
  },
  {
   "cell_type": "code",
   "execution_count": null,
   "metadata": {},
   "outputs": [],
   "source": [
    "inputs = Input(shape=(max_length,))\n",
    "x = Embedding(num_words, EMBEDDING_DIM, weights=[embedding_matrix])(inputs)\n",
    "x = SpatialDropout1D(0.1)(x)\n",
    "x = Bidirectional(LSTM(64, return_sequences=True,dropout=0.1,recurrent_dropout=0.1))(x)\n",
    "x = Conv1D(32, kernel_size = 3, padding = \"valid\", kernel_initializer = \"glorot_uniform\")(x)\n",
    "x = GlobalMaxPooling1D()(x)\n",
    "x = Dense(64, activation='relu')(x)\n",
    "x = Dropout(0.1)(x)\n",
    "output = Dense(1, activation='sigmoid')(x)\n",
    "model = Model(inputs=inputs, outputs=output)\n",
    "model.compile(loss='binary_crossentropy', optimizer='adam', metrics=['acc'])\n",
    "print(model.summary())"
   ]
  },
  {
   "cell_type": "code",
   "execution_count": null,
   "metadata": {},
   "outputs": [],
   "source": [
    "saved_model = \"model_bilstm_korona_01.hdf5\"\n",
    "checkpoint = ModelCheckpoint(saved_model, monitor='val_acc', verbose=1, save_best_only=True, mode='max')"
   ]
  },
  {
   "cell_type": "code",
   "execution_count": null,
   "metadata": {},
   "outputs": [],
   "source": [
    "history = model.fit(train_padding, y_train, epochs=5, batch_size=32, validation_split=0.1, callbacks=[checkpoint])"
   ]
  },
  {
   "cell_type": "code",
   "execution_count": null,
   "metadata": {},
   "outputs": [],
   "source": [
    "model=load_model('model_bilstm_korona_01.hdf5')\n",
    "\n",
    "y_cnn = model.predict(test_padding)\n",
    "print('Roc auc score is {}'.format(roc_auc_score(y_test, y_cnn)))\n",
    "y_int = np.zeros_like(y_cnn)\n",
    "y_int[y_cnn > 0.5] = 1\n",
    "print('Accuracy is {}'.format(accuracy_score(y_test,y_int)))"
   ]
  },
  {
   "cell_type": "code",
   "execution_count": null,
   "metadata": {},
   "outputs": [],
   "source": [
    "print(classification_report(y_test, y_int, zero_division=0))\n",
    "print(confusion_matrix(y_test, y_int))"
   ]
  },
  {
   "cell_type": "markdown",
   "metadata": {},
   "source": [
    "|              | Precision | Recall | F1-score | Support |\n",
    "|:------------:|:---------:|:------:|:--------:|:-------:|\n",
    "|       0      |    0.99   |  1.00  |   0.99   |   3901  |\n",
    "|       1      |    0.95   |  0.85  |   0.89   |   220   |\n",
    "|              |           |        |          |         |\n",
    "|   Accuracy   |           |        |   0.99   |   4121  |\n",
    "|   Macro avg  |    0.97   |  0.92  |   0.94   |   4121  |\n",
    "| Weighted avg |    0.99   |  0.99  |   0.99   |   4121  |"
   ]
  },
  {
   "cell_type": "markdown",
   "metadata": {},
   "source": [
    "Accuracy : 0.989323\n",
    "\n",
    "ROC : 0.969314"
   ]
  },
  {
   "cell_type": "markdown",
   "metadata": {},
   "source": [
    "| Actual/Predicted | Fake news | True news |\n",
    "|------------------|-----------|-----------|\n",
    "| Fake news        |   TP-186  |   FN-34   |\n",
    "| True news        |   FP-10  |  TN-3891  |"
   ]
  }
 ],
 "metadata": {
  "kernelspec": {
   "display_name": "Python 3",
   "language": "python",
   "name": "python3"
  },
  "language_info": {
   "codemirror_mode": {
    "name": "ipython",
    "version": 3
   },
   "file_extension": ".py",
   "mimetype": "text/x-python",
   "name": "python",
   "nbconvert_exporter": "python",
   "pygments_lexer": "ipython3",
   "version": "3.6.12"
  }
 },
 "nbformat": 4,
 "nbformat_minor": 4
}
