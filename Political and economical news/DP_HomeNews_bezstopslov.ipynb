{
 "cells": [
  {
   "cell_type": "markdown",
   "metadata": {},
   "source": [
    "## Detekcia falošných politických a ekonomických správ - ponechanie rozdelenia cieľového atribútu, vymazané stop slová"
   ]
  },
  {
   "cell_type": "markdown",
   "metadata": {},
   "source": [
    "#### Ako prvé načítame všetký potrebné knižnice."
   ]
  },
  {
   "cell_type": "code",
   "execution_count": 2,
   "metadata": {},
   "outputs": [
    {
     "name": "stderr",
     "output_type": "stream",
     "text": [
      "Using TensorFlow backend.\n"
     ]
    }
   ],
   "source": [
    "#načítanie potrebných knižníc\n",
    "import pandas as pd\n",
    "import csv\n",
    "import json\n",
    "import numpy as np\n",
    "import matplotlib.pyplot as plt\n",
    "plt.style.use('fivethirtyeight')\n",
    "\n",
    "%matplotlib inline\n",
    "%config InlineBackend.figure_format = 'retina'\n",
    "\n",
    "from sklearn.feature_extraction.text import CountVectorizer\n",
    "from sklearn.model_selection import train_test_split\n",
    "from nltk.tokenize import WordPunctTokenizer, word_tokenize\n",
    "from bs4 import BeautifulSoup\n",
    "import re\n",
    "import nltk\n",
    "import gensim\n",
    "from gensim.models import Word2Vec\n",
    "import os\n",
    "from tensorflow.python.keras.preprocessing.text import Tokenizer\n",
    "from tensorflow.python.keras.preprocessing.sequence import pad_sequences\n",
    "\n",
    "from keras.models import Sequential, Model, load_model\n",
    "from keras.layers import Input, concatenate, Activation, Dense, Dropout, Flatten, LSTM, Bidirectional, GRU, Conv1D, GlobalMaxPooling1D, MaxPooling1D, SpatialDropout1D, GlobalAveragePooling1D\n",
    "from keras.layers.embeddings import Embedding\n",
    "from keras.callbacks import ModelCheckpoint\n",
    "\n",
    "from sklearn.metrics import classification_report, confusion_matrix, accuracy_score,roc_auc_score\n",
    "\n",
    "from sklearn.model_selection import GridSearchCV, KFold\n",
    "from keras.wrappers.scikit_learn import KerasClassifier\n",
    "import collections"
   ]
  },
  {
   "cell_type": "markdown",
   "metadata": {},
   "source": [
    "#### Načítame dátovu množinu, ktorú sme získali z aplikácie POSTMAN. Články máme uložené v dvoch súboroch."
   ]
  },
  {
   "cell_type": "code",
   "execution_count": 3,
   "metadata": {},
   "outputs": [],
   "source": [
    "#načítanie dátových množín\n",
    "home=pd.read_csv(\"detekcia_Homenews2.csv\")\n",
    "home2=pd.read_csv(\"detekcia_Homenews.csv\")"
   ]
  },
  {
   "cell_type": "markdown",
   "metadata": {},
   "source": [
    "#### Spojíme predchádzajúce dve množiny do jedného súboru a potenciálne duplicitné hodnoty vymažeme na základe atribútu, ktorý uchováva url adresu článku."
   ]
  },
  {
   "cell_type": "code",
   "execution_count": 4,
   "metadata": {},
   "outputs": [],
   "source": [
    "#spojenie dvoch dátových množín a vymazanie potenciálnych duplikátov podľa url adresy článku\n",
    "home_nove=home2.append(home, ignore_index=True, sort=False)\n",
    "home_nove=home_nove.drop_duplicates(subset='url', keep=\"last\")"
   ]
  },
  {
   "cell_type": "markdown",
   "metadata": {},
   "source": [
    "#### Nižšie je vypísaná ukážka dátovej množiny, kde môžeme vidieť, že množina obsahuje atribúty ako name, url, body, perex. Atribút name nám hovorí o názve autora článku, url atribút hovorí  o url adrese odkazujúcej sa na článok, body je telo samotného článku, podľa ktorého sme správy detekovali, perex je úvodná, hrubo vytlačená časť článku tzv. uvedenie."
   ]
  },
  {
   "cell_type": "code",
   "execution_count": 5,
   "metadata": {},
   "outputs": [
    {
     "data": {
      "text/html": [
       "<div>\n",
       "<style scoped>\n",
       "    .dataframe tbody tr th:only-of-type {\n",
       "        vertical-align: middle;\n",
       "    }\n",
       "\n",
       "    .dataframe tbody tr th {\n",
       "        vertical-align: top;\n",
       "    }\n",
       "\n",
       "    .dataframe thead th {\n",
       "        text-align: right;\n",
       "    }\n",
       "</style>\n",
       "<table border=\"1\" class=\"dataframe\">\n",
       "  <thead>\n",
       "    <tr style=\"text-align: right;\">\n",
       "      <th></th>\n",
       "      <th>name</th>\n",
       "      <th>url</th>\n",
       "      <th>body</th>\n",
       "      <th>perex</th>\n",
       "    </tr>\n",
       "  </thead>\n",
       "  <tbody>\n",
       "    <tr>\n",
       "      <th>1</th>\n",
       "      <td>magnificat.sk</td>\n",
       "      <td>http://www.magnificat.sk/cudna-ekumena-na-fest...</td>\n",
       "      <td>\\r\\n \\r\\n„Katolícka moderna“, ako sa zdá, zav...</td>\n",
       "      <td>&lt;p&gt;&amp;nbsp; &amp;nbsp; &amp;#8222;Katolícka moderna&amp;#822...</td>\n",
       "    </tr>\n",
       "    <tr>\n",
       "      <th>2</th>\n",
       "      <td>magnificat.sk</td>\n",
       "      <td>http://www.magnificat.sk/nevsedna-vystava-v-br...</td>\n",
       "      <td>\\r\\nMilí priatelia, Robert Richter prešiel vo ...</td>\n",
       "      <td>&lt;p&gt;Milí priatelia, Robert Richter prešiel vo s...</td>\n",
       "    </tr>\n",
       "    <tr>\n",
       "      <th>3</th>\n",
       "      <td>magnificat.sk</td>\n",
       "      <td>http://www.magnificat.sk/ukrajinske-peklo/</td>\n",
       "      <td>Média vylíčila Berkut a další činitele jako fa...</td>\n",
       "      <td>&lt;p&gt;Média vylíčila Berkut a další činitele jako...</td>\n",
       "    </tr>\n",
       "    <tr>\n",
       "      <th>20</th>\n",
       "      <td>Petit Press</td>\n",
       "      <td>https://zriedkavechoroby.blog.sme.sk/c/522415/...</td>\n",
       "      <td>Rakovina pankreasu má najnižšiu mieru prežitia...</td>\n",
       "      <td>Rakovina pankreasu má najnižšiu mieru prežitia...</td>\n",
       "    </tr>\n",
       "    <tr>\n",
       "      <th>21</th>\n",
       "      <td>ta3.com</td>\n",
       "      <td>https://www.ta3.com/clanok/1170735/vnima-reali...</td>\n",
       "      <td>NaN</td>\n",
       "      <td>Stratifikácia nemocníc zostáva kompletne pripr...</td>\n",
       "    </tr>\n",
       "  </tbody>\n",
       "</table>\n",
       "</div>"
      ],
      "text/plain": [
       "             name                                                url  \\\n",
       "1   magnificat.sk  http://www.magnificat.sk/cudna-ekumena-na-fest...   \n",
       "2   magnificat.sk  http://www.magnificat.sk/nevsedna-vystava-v-br...   \n",
       "3   magnificat.sk         http://www.magnificat.sk/ukrajinske-peklo/   \n",
       "20    Petit Press  https://zriedkavechoroby.blog.sme.sk/c/522415/...   \n",
       "21        ta3.com  https://www.ta3.com/clanok/1170735/vnima-reali...   \n",
       "\n",
       "                                                 body  \\\n",
       "1    \\r\\n \\r\\n„Katolícka moderna“, ako sa zdá, zav...   \n",
       "2   \\r\\nMilí priatelia, Robert Richter prešiel vo ...   \n",
       "3   Média vylíčila Berkut a další činitele jako fa...   \n",
       "20  Rakovina pankreasu má najnižšiu mieru prežitia...   \n",
       "21                                                NaN   \n",
       "\n",
       "                                                perex  \n",
       "1   <p>&nbsp; &nbsp; &#8222;Katolícka moderna&#822...  \n",
       "2   <p>Milí priatelia, Robert Richter prešiel vo s...  \n",
       "3   <p>Média vylíčila Berkut a další činitele jako...  \n",
       "20  Rakovina pankreasu má najnižšiu mieru prežitia...  \n",
       "21  Stratifikácia nemocníc zostáva kompletne pripr...  "
      ]
     },
     "execution_count": 5,
     "metadata": {},
     "output_type": "execute_result"
    }
   ],
   "source": [
    "#ukážka dátovej množiny\n",
    "home_nove.head()"
   ]
  },
  {
   "cell_type": "markdown",
   "metadata": {},
   "source": [
    "#### Nižšie je zoznam všetkých autorov článkov s početnošťami článkov od jednotlivých autorov."
   ]
  },
  {
   "cell_type": "code",
   "execution_count": 6,
   "metadata": {},
   "outputs": [
    {
     "data": {
      "text/plain": [
       "TASR                         10368\n",
       "slobodnyvysielac.sk           7070\n",
       "Martina Max                   2356\n",
       "redaktor maria miz            1824\n",
       "sme.sk                        1424\n",
       "ta3.com                       1155\n",
       "redaktor maria dutkova        1140\n",
       "aktuality.sk                  1066\n",
       "redaktor jana frielichova     1058\n",
       "redaktor janka papcunova       973\n",
       "TASR - HSP                     813\n",
       "hnonline.sk                    708\n",
       "maria palastova                338\n",
       "redaktor jaroslav              332\n",
       "Redakcia                       310\n",
       "zemavek.sk                     297\n",
       "redaktor zuzana                279\n",
       "redakto anton                  180\n",
       "tomas zajaros                  158\n",
       "redaktor lukas                 144\n",
       "::prop                          82\n",
       "Autor                           74\n",
       "Petit Press                     69\n",
       "admin                           61\n",
       "redaktor ivana                  52\n",
       "redaktor viliam varga           49\n",
       "magnificat.sk                   44\n",
       "HSP                             18\n",
       "redaktor slavka                 15\n",
       "TASR-OTS                        15\n",
       "oliolijanko                      8\n",
       "Andrij Stryj                     5\n",
       "redaktor maros kyjovsky          4\n",
       "Roland Edvardsen                 3\n",
       "hlavnespravy.sk                  2\n",
       "Artur                            1\n",
       "Name: name, dtype: int64"
      ]
     },
     "execution_count": 6,
     "metadata": {},
     "output_type": "execute_result"
    }
   ],
   "source": [
    "#výpis autorov a počet ich článkov\n",
    "home_nove.name.value_counts()"
   ]
  },
  {
   "cell_type": "markdown",
   "metadata": {},
   "source": [
    "#### Z dátovej množiny vymažeme zdroj blog.sme, pretože je pre náš výber článkov, ktoré sa zameriavajú na politiku a ekonomiku nerelevantný. Nižšie tiež nastavíme autorom jednotlivých článkov dôverihodnosť a to 0 - pravdivé články, 1 - nepravdivé. K zisťovaniu dôveryhodnosti daných článkov nám z časti pomohla stránka konšpirátori.sk, ale taktiež sme vykonali aj manuálne priradenie relevantnosti. Z každého zdroja, odkiaľ články pochádzali, sme si vybrali náhodne zopár článkov, ktoré sme celé prečítali a priradili následne všetkým článkom z daného zdroja relevantnosť."
   ]
  },
  {
   "cell_type": "code",
   "execution_count": 7,
   "metadata": {},
   "outputs": [],
   "source": [
    "#vymazanie zdroja blog.sme pretože je nerelevantny\n",
    "home_nove=home_nove[home_nove.name != 'sme.sk']\n",
    "home_nove=home_nove[home_nove.name != 'Petit Press'] \n",
    "\n",
    "#nastavenie cieľového atribútu \n",
    "home_nove[\"label\"]=np.where(home_nove[\"name\"].str.contains(\"ta3\")|home_nove[\"name\"].str.contains(\"aktuality\")|home_nove[\"name\"].str.contains(\"TASR\")|home_nove[\"name\"].str.contains(\"hnonline\")|home_nove[\"name\"].str.contains(\"Autor\")|home_nove[\"name\"].str.contains(\"maria dutkova\")|home_nove[\"name\"].str.contains(\"janka papcunova\")\n",
    "                        |home_nove[\"name\"].str.contains(\"maria miz\")|home_nove[\"name\"].str.contains(\"Martina Max\")|home_nove[\"name\"].str.contains(\"tomas zajaros\")|home_nove[\"name\"].str.contains(\"jana frielichova\")|home_nove[\"name\"].str.contains(\"anton\")|home_nove[\"name\"].str.contains(\"maros kyjovsky\"), 0,1)\n"
   ]
  },
  {
   "cell_type": "markdown",
   "metadata": {},
   "source": [
    "#### Po vytvorení cieľového atribútu si vypíšeme pomer pravdivých a nepravdivých článkov nachádzajúcich sa v dátovej množine."
   ]
  },
  {
   "cell_type": "code",
   "execution_count": 8,
   "metadata": {},
   "outputs": [
    {
     "data": {
      "text/plain": [
       "0    21892\n",
       "1     9110\n",
       "Name: label, dtype: int64"
      ]
     },
     "execution_count": 8,
     "metadata": {},
     "output_type": "execute_result"
    }
   ],
   "source": [
    "#pomer cieľového atribútu\n",
    "home_nove.label.value_counts()"
   ]
  },
  {
   "cell_type": "markdown",
   "metadata": {},
   "source": [
    "#### Vypíšeme si aj počet prázdnych hodnôt nachádzajúcich sa v jednotlivých atribútoch."
   ]
  },
  {
   "cell_type": "code",
   "execution_count": 9,
   "metadata": {},
   "outputs": [
    {
     "data": {
      "text/plain": [
       "name        0\n",
       "url         0\n",
       "body     2307\n",
       "perex      95\n",
       "label       0\n",
       "dtype: int64"
      ]
     },
     "execution_count": 9,
     "metadata": {},
     "output_type": "execute_result"
    }
   ],
   "source": [
    "#počet prázdnych hodnôt\n",
    "home_nove.isna().sum()"
   ]
  },
  {
   "cell_type": "markdown",
   "metadata": {},
   "source": [
    "#### Veľa článkov obsahuje prázdne hodnoty v atribúte body, a keďže o tieto články nechceme prísť atribútu body priradíme text z atribútu perex."
   ]
  },
  {
   "cell_type": "code",
   "execution_count": 10,
   "metadata": {},
   "outputs": [],
   "source": [
    "#veľa NA hodnôt mali pravdivé texty, čiže z perexu sme vzali text a priradili ho do body\n",
    "home_nove[\"body\"]=home_nove[\"body\"].fillna(home_nove[\"perex\"])"
   ]
  },
  {
   "cell_type": "code",
   "execution_count": 11,
   "metadata": {},
   "outputs": [
    {
     "data": {
      "text/plain": [
       "name      0\n",
       "url       0\n",
       "body     29\n",
       "perex    95\n",
       "label     0\n",
       "dtype: int64"
      ]
     },
     "execution_count": 11,
     "metadata": {},
     "output_type": "execute_result"
    }
   ],
   "source": [
    "home_nove.isna().sum()"
   ]
  },
  {
   "cell_type": "markdown",
   "metadata": {},
   "source": [
    "#### Ak článok obsahuje prázdne hodnoty pre jeden aj druhý atribút vymažeme ho. "
   ]
  },
  {
   "cell_type": "code",
   "execution_count": 12,
   "metadata": {},
   "outputs": [],
   "source": [
    "#vymazanie prázdnych hodnôt\n",
    "home_nove=home_nove.dropna()"
   ]
  },
  {
   "cell_type": "markdown",
   "metadata": {},
   "source": [
    "#### Množinu dát si náhodne rozdelíme na trénovaciu a testovaciu množinu v pomere 70:30 a ponecháme pomer rozdelenia cieľového atribútu."
   ]
  },
  {
   "cell_type": "code",
   "execution_count": 13,
   "metadata": {},
   "outputs": [],
   "source": [
    "#do množiny x vyberieme len atribúty name, body a label a do y len atribút label\n",
    "x=home_nove[['name','body','label']]\n",
    "y=home_nove[['label']]\n",
    "\n",
    "#rozdelenie množiny na trénovaciu a testovaciu v pomere 70:30\n",
    "SEED = 2000\n",
    "x_train,x_test, y_train, y_test = train_test_split(x, y, test_size=0.3, random_state=SEED)"
   ]
  },
  {
   "cell_type": "code",
   "execution_count": 14,
   "metadata": {},
   "outputs": [
    {
     "data": {
      "text/plain": [
       "0    15363\n",
       "1     6271\n",
       "Name: label, dtype: int64"
      ]
     },
     "execution_count": 14,
     "metadata": {},
     "output_type": "execute_result"
    }
   ],
   "source": [
    "x_train.label.value_counts()"
   ]
  },
  {
   "cell_type": "code",
   "execution_count": 15,
   "metadata": {},
   "outputs": [
    {
     "data": {
      "text/plain": [
       "0    6496\n",
       "1    2777\n",
       "Name: label, dtype: int64"
      ]
     },
     "execution_count": 15,
     "metadata": {},
     "output_type": "execute_result"
    }
   ],
   "source": [
    "x_test.label.value_counts()"
   ]
  },
  {
   "cell_type": "markdown",
   "metadata": {},
   "source": [
    "#### Z množiny x_train a x_test nakoniec vymažeme atribút name, keďže detekciu vykonávame len na základe textu článkov. A súbory dát uložíme."
   ]
  },
  {
   "cell_type": "code",
   "execution_count": 16,
   "metadata": {},
   "outputs": [],
   "source": [
    "#vymazanie atribútu name-názov autora článku, pretože detekciu sme vykonávali len zo samotného textu\n",
    "x_train=x_train.drop(columns=['name'])\n",
    "x_test=x_test.drop(columns=['name'])"
   ]
  },
  {
   "cell_type": "code",
   "execution_count": 17,
   "metadata": {},
   "outputs": [],
   "source": [
    "#uloženie trénovacích a testovacích množín\n",
    "x_test.to_csv('x_test_clanky_home.csv',encoding='utf-8')\n",
    "y_test.to_csv('y_test_label_home.csv',encoding='utf-8')\n",
    "\n",
    "x_test=pd.read_csv('x_test_clanky_home.csv',encoding='utf-8')\n",
    "y_test=pd.read_csv('y_test_label_home.csv',encoding='utf-8')\n",
    "\n",
    "x_train.to_csv('x_train_clanky_home_nebalansbezstop.csv',encoding='utf-8')\n",
    "y_train.to_csv('y_train_label_home_nebalansbezstop.csv',encoding='utf-8')\n",
    "\n",
    "x_train=pd.read_csv('x_train_clanky_home_nebalansbezstop.csv',encoding='utf-8')\n",
    "\n",
    "x_train=x_train.drop(columns=[\"Unnamed: 0\"])\n",
    "x_test=x_test.drop(columns=[\"Unnamed: 0\"])\n",
    "y_test=y_test.drop(columns=[\"Unnamed: 0\"])"
   ]
  },
  {
   "cell_type": "markdown",
   "metadata": {},
   "source": [
    "#### Zadefinovanie slovenských stop slov. Stop slová predstavujú často vyskytujúce sa slová v texte no nemajú pre nás väčšinou žiaden význam. Za stop slová považujeme predložky, spojky, zámená, častice a podobne."
   ]
  },
  {
   "cell_type": "code",
   "execution_count": 18,
   "metadata": {},
   "outputs": [],
   "source": [
    "#definovanie slovenských stop slov\n",
    "stop_words = frozenset([\"tasr\",\"a\",\"aby\",\"aj\",\"ak\",\"ako\",\"ale\",\"alebo\",\"and\",\"ani\",\"áno\",\"asi\",\"až\",\"bez\",\"bude\",\"budem\",\"budeš\",\"budeme\",\"budete\",\"budú\",\"by\",\"bol\",\"bola\",\"boli\",\"bolo\",\"byť\",\"cez\",\"čo\",\"či\",\"ďalší\",\"ďalšia\",\"ďalšie\",\"dnes\",\"do\",\"ho\",\"ešte\",\"for\",\"i\",\"ja\",\"je\",\"jeho\",\"jej\",\"ich\",\"iba\",\"iné\",\"iný\",\"som\",\"si\",\"sme\",\"sú\",\"k\",\"kam\",\"každý\",\"každá\",\"každé\",\"každí\",\"kde\",\"keď\",\"kto\",\"ktorá\",\"ktoré\",\"ktorou\",\"ktorý\",\"ktorí\",\"ku\",\"lebo\",\"len\",\"ma\",\"mať\",\"má\",\"máte\",\"medzi\",\"mi\",\"mna\",\"mne\",\"mnou\",\"musieť\",\"môcť\",\"môj\",\"môže\",\"my\",\"na\",\"nad\",\"nám\",\"náš\",\"naši\",\"nie\",\"nech\",\"než\",\"nič\",\"niektorý\",\"nové\",\"nový\",\"nová\",\"noví\",\"o\",\"od\",\"odo\",\"of\",\"on\",\"ona\",\"ono\",\"oni\",\"ony\",\"po\",\"pod\",\"podľa\",\"pokiaľ\",\"potom\",\"práve\",\"pre\",\"prečo\",\"preto\",\"pretože\",\"prvý\",\"prvá\",\"prvé\",\"prví\",\"pred\",\"predo\",\"pri\",\"pýta\",\"s\",\"sa\",\"so\",\"svoje\",\"svoj\",\"svojich\",\"svojím\",\"svojími\",\"ta\",\"tak\",\"takže\",\"táto\",\"teda\",\"te\",\"tě\",\"ten\",\"tento\",\"the\",\"tieto\",\"tým\",\"týmto\",\"tiež\",\"to\",\"toto\",\"toho\",\"tohoto\",\"tom\",\"tomto\",\"tomuto\",\"tu\",\"tú\",\"túto\",\"tvoj\",\"ty\",\"tvojími\",\"už\",\"v\",\"vám\",\"váš\",\"vaše\",\"vo\",\"viac\",\"však\",\"všetok\",\"vy\",\"z\",\"za\",\"zo\",\"že\",\"buď\",\"ju\",\"menej\",\"moja\",\"moje\",\"späť\",\"ste\",\"tá\",\"tam\"])"
   ]
  },
  {
   "cell_type": "markdown",
   "metadata": {},
   "source": [
    "#### Nájdeme a vypíšeme najviac vyskytujúce sa slová v textoch článkoch, slová rozdelíme podľa toho, či sa vyskytujú vo falošných alebo v pravdivých správach."
   ]
  },
  {
   "cell_type": "code",
   "execution_count": 19,
   "metadata": {},
   "outputs": [
    {
     "data": {
      "text/html": [
       "<div>\n",
       "<style scoped>\n",
       "    .dataframe tbody tr th:only-of-type {\n",
       "        vertical-align: middle;\n",
       "    }\n",
       "\n",
       "    .dataframe tbody tr th {\n",
       "        vertical-align: top;\n",
       "    }\n",
       "\n",
       "    .dataframe thead th {\n",
       "        text-align: right;\n",
       "    }\n",
       "</style>\n",
       "<table border=\"1\" class=\"dataframe\">\n",
       "  <thead>\n",
       "    <tr style=\"text-align: right;\">\n",
       "      <th></th>\n",
       "      <th>negative</th>\n",
       "      <th>positive</th>\n",
       "      <th>total</th>\n",
       "    </tr>\n",
       "  </thead>\n",
       "  <tbody>\n",
       "    <tr>\n",
       "      <th>sr</th>\n",
       "      <td>17798</td>\n",
       "      <td>2543</td>\n",
       "      <td>20341</td>\n",
       "    </tr>\n",
       "    <tr>\n",
       "      <th>bratislava</th>\n",
       "      <td>14532</td>\n",
       "      <td>1970</td>\n",
       "      <td>16502</td>\n",
       "    </tr>\n",
       "    <tr>\n",
       "      <th>foto</th>\n",
       "      <td>11538</td>\n",
       "      <td>3147</td>\n",
       "      <td>14685</td>\n",
       "    </tr>\n",
       "    <tr>\n",
       "      <th>roku</th>\n",
       "      <td>11456</td>\n",
       "      <td>1805</td>\n",
       "      <td>13261</td>\n",
       "    </tr>\n",
       "    <tr>\n",
       "      <th>eur</th>\n",
       "      <td>11988</td>\n",
       "      <td>1111</td>\n",
       "      <td>13099</td>\n",
       "    </tr>\n",
       "    <tr>\n",
       "      <th>hsp</th>\n",
       "      <td>8711</td>\n",
       "      <td>2843</td>\n",
       "      <td>11554</td>\n",
       "    </tr>\n",
       "    <tr>\n",
       "      <th>slovensku</th>\n",
       "      <td>7384</td>\n",
       "      <td>1669</td>\n",
       "      <td>9053</td>\n",
       "    </tr>\n",
       "    <tr>\n",
       "      <th>ľudí</th>\n",
       "      <td>6425</td>\n",
       "      <td>1929</td>\n",
       "      <td>8354</td>\n",
       "    </tr>\n",
       "    <tr>\n",
       "      <th>veľmi</th>\n",
       "      <td>7117</td>\n",
       "      <td>1027</td>\n",
       "      <td>8144</td>\n",
       "    </tr>\n",
       "    <tr>\n",
       "      <th>strany</th>\n",
       "      <td>6283</td>\n",
       "      <td>1839</td>\n",
       "      <td>8122</td>\n",
       "    </tr>\n",
       "  </tbody>\n",
       "</table>\n",
       "</div>"
      ],
      "text/plain": [
       "            negative  positive  total\n",
       "sr             17798      2543  20341\n",
       "bratislava     14532      1970  16502\n",
       "foto           11538      3147  14685\n",
       "roku           11456      1805  13261\n",
       "eur            11988      1111  13099\n",
       "hsp             8711      2843  11554\n",
       "slovensku       7384      1669   9053\n",
       "ľudí            6425      1929   8354\n",
       "veľmi           7117      1027   8144\n",
       "strany          6283      1839   8122"
      ]
     },
     "execution_count": 19,
     "metadata": {},
     "output_type": "execute_result"
    }
   ],
   "source": [
    "#vypísanie TOP slov nachádzajúcich sa v článkoch pravdivých aj falošných\n",
    "cvec = CountVectorizer(stop_words=stop_words,max_features=10000) #pouzijeme stop slovo \n",
    "cvec.fit(home_nove.body)\n",
    "\n",
    "neg_doc_matrix = cvec.transform(home_nove[home_nove.label == 0].body)\n",
    "pos_doc_matrix = cvec.transform(home_nove[home_nove.label == 1].body)\n",
    "neg_tf = np.sum(neg_doc_matrix,axis=0)\n",
    "pos_tf = np.sum(pos_doc_matrix,axis=0)\n",
    "neg = np.squeeze(np.asarray(neg_tf))\n",
    "pos = np.squeeze(np.asarray(pos_tf))\n",
    "term_freq_df2 = pd.DataFrame([neg,pos],columns=cvec.get_feature_names()).transpose()\n",
    "term_freq_df2.columns = ['negative', 'positive']\n",
    "term_freq_df2['total'] = term_freq_df2['negative'] + term_freq_df2['positive']\n",
    "term_freq_df2.sort_values(by='total', ascending=False).iloc[:10]"
   ]
  },
  {
   "cell_type": "markdown",
   "metadata": {},
   "source": [
    "#### Nájdené najviac vyskytujúce sa slová zobrazíme pomocou grafu, ktorý zobrazí top 50 vyskytujúcich sa slov v právdivých článkoch a vo falošných článkoch."
   ]
  },
  {
   "cell_type": "code",
   "execution_count": 20,
   "metadata": {},
   "outputs": [
    {
     "data": {
      "text/plain": [
       "Text(0.5, 1.0, 'Top 50 slov v pravdivých správach')"
      ]
     },
     "execution_count": 20,
     "metadata": {},
     "output_type": "execute_result"
    },
    {
     "data": {
      "image/png": "[encoded data removed]",
      "text/plain": [
       "<Figure size 864x720 with 1 Axes>"
      ]
     },
     "metadata": {
      "image/png": {
       "height": 647,
       "width": 817
      },
      "needs_background": "light"
     },
     "output_type": "display_data"
    }
   ],
   "source": [
    "#graf TOP 50 slov vyskytujúcich sa v pravdivých správach\n",
    "y_pos = np.arange(50)\n",
    "plt.figure(figsize=(12,10))\n",
    "plt.bar(y_pos, term_freq_df2.sort_values(by='negative', ascending=False)['negative'][:50], align='center', alpha=0.5,color=[\"black\"])\n",
    "plt.xticks(y_pos, term_freq_df2.sort_values(by='negative', ascending=False)['negative'][:50].index,rotation='vertical')\n",
    "plt.ylabel('Početnosť')\n",
    "plt.xlabel('Slová')\n",
    "plt.title('Top 50 slov v pravdivých správach')"
   ]
  },
  {
   "cell_type": "code",
   "execution_count": 21,
   "metadata": {},
   "outputs": [
    {
     "data": {
      "text/plain": [
       "Text(0.5, 1.0, 'Top 50 slov vo falošných správach')"
      ]
     },
     "execution_count": 21,
     "metadata": {},
     "output_type": "execute_result"
    },
    {
     "data": {
      "image/png": "[encoded data removed]",
      "text/plain": [
       "<Figure size 864x720 with 1 Axes>"
      ]
     },
     "metadata": {
      "image/png": {
       "height": 651,
       "width": 811
      },
      "needs_background": "light"
     },
     "output_type": "display_data"
    }
   ],
   "source": [
    "##graf TOP 50 slov vyskytujúcich sa vo falošných správach\n",
    "y_pos = np.arange(50)\n",
    "plt.figure(figsize=(12,10))\n",
    "plt.bar(y_pos, term_freq_df2.sort_values(by='positive', ascending=False)['positive'][:50], align='center', alpha=0.5,color=[\"black\"])\n",
    "plt.xticks(y_pos, term_freq_df2.sort_values(by='positive', ascending=False)['positive'][:50].index,rotation='vertical')\n",
    "plt.ylabel('Početnosť')\n",
    "plt.xlabel('Slová')\n",
    "plt.title('Top 50 slov vo falošných správach')"
   ]
  },
  {
   "cell_type": "markdown",
   "metadata": {},
   "source": [
    "#### V príprave dát do podoby vhodnej pre modelovanie musíme texty článkov vyčistiť a to vymazať interpunkčné znamienka, odkazy na internetové stránky, odkazy obrázkov, odkazy zdrojov, ponechať iba písmená abecedy a zjednotiť text na malé písmená."
   ]
  },
  {
   "cell_type": "code",
   "execution_count": 22,
   "metadata": {},
   "outputs": [],
   "source": [
    "#definovanie, čo sa má z textu odstrániť\n",
    "tok = WordPunctTokenizer()\n",
    "\n",
    "pat1 = r'@[A-Za-z0-9_]+' #odstránenie @\n",
    "pat2 = r'https?://[^ ]+' #odstránenie odkazov https\n",
    "combined_pat = r'|'.join((pat1, pat2)) #kombinovane odstránenie pat1 aj pat2\n",
    "www_pat = r'www.[^ ]+' #odstránenie odkazov www\n",
    "pat3=r'http?://[^ ]+' #odstránenie odkazov http\n",
    "combined_pat2 = r'|'.join((www_pat, pat3)) \n",
    "\n",
    "pat4=r'img src=[^ ]+' #odstránenie odkazu na obrázok\n",
    "pat5=r'\\(SITA/[^)]*\\)' #odstránenie konkrétneho odkazu začínajúceho sa zdrojom SITA\n",
    "combined_pat3= r'|'.join((pat4, pat5)) \n",
    "pat6=r'\\(HSP/[^)]*\\)' #odstránenie konkrétneho odkazu začínajúceho sa zdrojom HSP\n",
    "pat7=r'\\(TASR/[^)]*\\)' #odstránenie konkrétneho odkazu začínajúceho sa zdrojom TASR\n",
    "combined_pat4= r'|'.join((pat6, pat7)) "
   ]
  },
  {
   "cell_type": "code",
   "execution_count": 23,
   "metadata": {},
   "outputs": [],
   "source": [
    "def cleaner(text):\n",
    "    soup = BeautifulSoup(text, 'lxml') #dekódovanie html na všeobecný text\n",
    "    souped = soup.get_text()\n",
    "    try:\n",
    "        bom_removed = souped.replace(\"ï¿½\", \"?\") #ošetrenie chyby keď nedekóduje dobre\n",
    "    except:\n",
    "        bom_removed = souped\n",
    "    stripped3 = re.sub(combined_pat, '', bom_removed)\n",
    "    stripped2= re.sub(combined_pat2, '', stripped3)\n",
    "    stripped1 = re.sub(combined_pat3, '', stripped2)\n",
    "    stripped = re.sub(combined_pat4, '', stripped1)\n",
    "    lower_case = stripped.lower()\n",
    "    letters_only = re.sub(\"[^a-zA-Z\\ÆÐƎƏƐƔĲŊŒẞÞǷȜæðǝəɛɣĳŋœĸſßþƿȝĄƁÇĐƊĘĦĮƘŁØƠŞȘŢȚŦŲƯY̨Ƴąɓçđɗęħįƙłøơşșţțŧųưy̨ƴÁÀÂÄǍĂĀÃÅǺĄÆǼǢƁĆĊĈČÇĎḌĐƊÐÉÈĖÊËĚĔĒĘẸƎƏƐĠĜǦĞĢƔáàâäǎăāãåǻąæǽǣɓćċĉčçďḍđɗðéèėêëěĕēęẹǝəɛġĝǧğģɣĤḤĦIÍÌİÎÏǏĬĪĨĮỊĲĴĶƘĹĻŁĽĿNŃN̈ŇÑŅŊÓÒÔÖǑŎŌÕŐỌØǾƠŒĥḥħıíìiîïǐĭīĩįịĳĵķƙĸĺļłľŀŉńn̈ňñņŋóòôöǒŏōõőọøǿơœŔŘŖŚŜŠŞȘṢẞŤŢṬŦÞÚÙÛÜǓŬŪŨŰŮŲỤƯẂẀŴẄǷÝỲŶŸȲỸƳŹŻŽẒŕřŗſśŝšşșṣßťţṭŧþúùûüǔŭūũűůųụưẃẁŵẅƿýỳŷÿȳỹƴźżžẓ]\", \" \", lower_case)\n",
    "    words = [x for x  in tok.tokenize(letters_only) if len(x) > 1]\n",
    "    return (\" \".join(words)).strip()"
   ]
  },
  {
   "cell_type": "code",
   "execution_count": 24,
   "metadata": {},
   "outputs": [
    {
     "name": "stderr",
     "output_type": "stream",
     "text": [
      "C:\\Users\\Klaudia\\Anaconda3\\envs\\tensorflow_env2\\lib\\site-packages\\bs4\\__init__.py:421: MarkupResemblesLocatorWarning: \"http://dolezite.sk/Bola_nezna_revolucia_november_1989_podvodom.html\n",
      "\" looks like a URL. Beautiful Soup is not an HTTP client. You should probably use an HTTP client like requests to get the document behind the URL, and feed that document to Beautiful Soup.\n",
      "  MarkupResemblesLocatorWarning\n",
      "C:\\Users\\Klaudia\\Anaconda3\\envs\\tensorflow_env2\\lib\\site-packages\\bs4\\__init__.py:421: MarkupResemblesLocatorWarning: \"http://www.bnaibritheurope.org/bbe/content/view/640/lang,en/\n",
      "\" looks like a URL. Beautiful Soup is not an HTTP client. You should probably use an HTTP client like requests to get the document behind the URL, and feed that document to Beautiful Soup.\n",
      "  MarkupResemblesLocatorWarning\n"
     ]
    }
   ],
   "source": [
    "#čistenie textu na trénovacej a testovacej množine\n",
    "testing_train = x_train.body[0:(len(x_train))]\n",
    "test_result_train = []\n",
    "for t in testing_train:\n",
    "    test_result_train.append(cleaner(t))\n",
    "\n",
    "\n",
    "testing_test = x_test.body[0:(len(x_test))]\n",
    "test_result_test = []\n",
    "for t in testing_test:\n",
    "    test_result_test.append(cleaner(t))"
   ]
  },
  {
   "cell_type": "code",
   "execution_count": 25,
   "metadata": {},
   "outputs": [],
   "source": [
    "#vytvorenie dataframe clean_df\n",
    "clean_train = pd.DataFrame(test_result_train,columns=['body'])\n",
    "clean_train['label'] = x_train.label #pridanie stĺpca label\n",
    "\n",
    "clean_test = pd.DataFrame(test_result_test,columns=['body'])\n",
    "clean_test['label'] = x_test.label "
   ]
  },
  {
   "cell_type": "code",
   "execution_count": 26,
   "metadata": {},
   "outputs": [],
   "source": [
    "#uloženie vyčisteného textu\n",
    "clean_train.to_csv('clean_train_home_nebalans2.csv',encoding='utf-8')\n",
    "csv_train = 'clean_train_home_nebalans2.csv'\n",
    "df_train = pd.read_csv(csv_train,index_col=0)\n",
    "\n",
    "clean_test.to_csv('clean_test_home.csv',encoding='utf-8')\n",
    "csv_test = 'clean_test_home.csv'\n",
    "df_test = pd.read_csv(csv_test,index_col=0)"
   ]
  },
  {
   "cell_type": "markdown",
   "metadata": {},
   "source": [
    "#### Po vyčístení textu vymažeme potencionálne prázdne hodnoty, kde sa po definovaní kritérií vyčistenia mohlo stať, že bežný text v bunke nezostal. "
   ]
  },
  {
   "cell_type": "code",
   "execution_count": 27,
   "metadata": {},
   "outputs": [],
   "source": [
    "df_train.dropna(inplace=True) #vymazanie prázdnych hodnôt\n",
    "df_train.reset_index(drop=True,inplace=True)\n",
    "\n",
    "df_test.dropna(inplace=True) #vymazanie prázdnych hodnôt\n",
    "df_test.reset_index(drop=True,inplace=True)"
   ]
  },
  {
   "cell_type": "code",
   "execution_count": 28,
   "metadata": {},
   "outputs": [
    {
     "data": {
      "text/html": [
       "<div>\n",
       "<style scoped>\n",
       "    .dataframe tbody tr th:only-of-type {\n",
       "        vertical-align: middle;\n",
       "    }\n",
       "\n",
       "    .dataframe tbody tr th {\n",
       "        vertical-align: top;\n",
       "    }\n",
       "\n",
       "    .dataframe thead th {\n",
       "        text-align: right;\n",
       "    }\n",
       "</style>\n",
       "<table border=\"1\" class=\"dataframe\">\n",
       "  <thead>\n",
       "    <tr style=\"text-align: right;\">\n",
       "      <th></th>\n",
       "      <th>body</th>\n",
       "      <th>label</th>\n",
       "    </tr>\n",
       "  </thead>\n",
       "  <tbody>\n",
       "    <tr>\n",
       "      <th>0</th>\n",
       "      <td>hrachovo decembra všetky žiadosti posúdila cer...</td>\n",
       "      <td>0</td>\n",
       "    </tr>\n",
       "    <tr>\n",
       "      <th>1</th>\n",
       "      <td>source kočnera obvinili objednávky vraždy kuci...</td>\n",
       "      <td>1</td>\n",
       "    </tr>\n",
       "    <tr>\n",
       "      <th>2</th>\n",
       "      <td>prezident peru martín vizcarra jeho kolumbijsk...</td>\n",
       "      <td>1</td>\n",
       "    </tr>\n",
       "    <tr>\n",
       "      <th>3</th>\n",
       "      <td>nitra novembra tasr na univerzite konštantína ...</td>\n",
       "      <td>0</td>\n",
       "    </tr>\n",
       "    <tr>\n",
       "      <th>4</th>\n",
       "      <td>melbourne januára aktualizované slovenská juni...</td>\n",
       "      <td>1</td>\n",
       "    </tr>\n",
       "  </tbody>\n",
       "</table>\n",
       "</div>"
      ],
      "text/plain": [
       "                                                body  label\n",
       "0  hrachovo decembra všetky žiadosti posúdila cer...      0\n",
       "1  source kočnera obvinili objednávky vraždy kuci...      1\n",
       "2  prezident peru martín vizcarra jeho kolumbijsk...      1\n",
       "3  nitra novembra tasr na univerzite konštantína ...      0\n",
       "4  melbourne januára aktualizované slovenská juni...      1"
      ]
     },
     "execution_count": 28,
     "metadata": {},
     "output_type": "execute_result"
    }
   ],
   "source": [
    "#ukážka vyčistenej dátovej množiny\n",
    "df_train.head()"
   ]
  },
  {
   "cell_type": "code",
   "execution_count": 29,
   "metadata": {},
   "outputs": [
    {
     "data": {
      "text/plain": [
       "0    15362\n",
       "1     6263\n",
       "Name: label, dtype: int64"
      ]
     },
     "execution_count": 29,
     "metadata": {},
     "output_type": "execute_result"
    }
   ],
   "source": [
    "df_train.label.value_counts()"
   ]
  },
  {
   "cell_type": "code",
   "execution_count": 30,
   "metadata": {},
   "outputs": [
    {
     "data": {
      "text/plain": [
       "0    6495\n",
       "1    2776\n",
       "Name: label, dtype: int64"
      ]
     },
     "execution_count": 30,
     "metadata": {},
     "output_type": "execute_result"
    }
   ],
   "source": [
    "df_test.label.value_counts()"
   ]
  },
  {
   "cell_type": "markdown",
   "metadata": {},
   "source": [
    "#### Po vyčistení textu pokračujeme vytvorením tokenov z príslušných slov z textu a ich následným prevodom do vektorovej reprezentácie slov tzv. word embeddings. Na vytvorenie word embeddings použijeme nástroj Word2Vec, ktorý je implementovaný pomocou knižnice Gensim, kde výstupom bude množina vektorov. Pripravené vektory prevedieme na tokenizované a ich dĺžky zarovnáme na rovnaké doplnením nulových indexov."
   ]
  },
  {
   "cell_type": "code",
   "execution_count": 31,
   "metadata": {},
   "outputs": [],
   "source": [
    "#vytvorenie tokenom zo slov pre trénovaciu a testovaciu množinu\n",
    "df_token_train = df_train['body'].values.tolist()\n",
    "\n",
    "token_train=list()\n",
    "for i in df_token_train:\n",
    "    word_train=nltk.word_tokenize(i)\n",
    "    word_train = [w for w in word_train if not w in stop_words]\n",
    "    token_train.append(word_train)\n",
    "\n",
    "\n",
    "df_token_test = df_test['body'].values.tolist()\n",
    "\n",
    "token_test=list()\n",
    "for i in df_token_test:\n",
    "    word_test=nltk.word_tokenize(i)\n",
    "    word_test = [w for w in word_test if not w in stop_words]\n",
    "    token_test.append(word_test)"
   ]
  },
  {
   "cell_type": "code",
   "execution_count": 32,
   "metadata": {},
   "outputs": [],
   "source": [
    "#word embeddings pomocou Word2Vec\n",
    "model = Word2Vec(token_train, min_count = 1)\n",
    "vocabulary = model.wv.vocab\n",
    "\n",
    "name = 'w2v.txt'\n",
    "model.wv.save_word2vec_format(name, binary = False)\n",
    "\n",
    "embeddings_index = {}\n",
    "f = open(os.path.join('','w2v.txt'), encoding = \"utf-8\")\n",
    "for line in f:\n",
    "    values = line.split()\n",
    "    word_train = values[0]\n",
    "    coefs = np.asarray(values[1:])\n",
    "    embeddings_index[word_train] = coefs\n",
    "f.close()"
   ]
  },
  {
   "cell_type": "code",
   "execution_count": 33,
   "metadata": {},
   "outputs": [
    {
     "name": "stdout",
     "output_type": "stream",
     "text": [
      "Najdenych 201770 jedinecnych tokenov.\n"
     ]
    }
   ],
   "source": [
    "max_length = 1000\n",
    "\n",
    "tokenizer = Tokenizer()\n",
    "tokenizer.fit_on_texts(token_train)\n",
    "\n",
    "seq_train = tokenizer.texts_to_sequences(token_train)\n",
    "seq_test = tokenizer.texts_to_sequences(token_test)\n",
    "\n",
    "word_index = tokenizer.word_index\n",
    "print('Najdenych %s jedinecnych tokenov.' %len (word_index))\n",
    "\n",
    "train_padding = pad_sequences(seq_train, max_length)\n",
    "test_padding = pad_sequences(seq_test, max_length)"
   ]
  },
  {
   "cell_type": "code",
   "execution_count": 34,
   "metadata": {},
   "outputs": [],
   "source": [
    "EMBEDDING_DIM = 100\n",
    "num_words = len(word_index) + 1\n",
    "embedding_matrix = np.zeros((num_words, EMBEDDING_DIM))\n",
    "\n",
    "for word_train, ii in word_index.items():\n",
    "    if ii > num_words:\n",
    "        continue\n",
    "    embedding_vector = embeddings_index.get(word_train)\n",
    "    if embedding_vector is not None:\n",
    "        embedding_matrix[ii] = embedding_vector"
   ]
  },
  {
   "cell_type": "code",
   "execution_count": null,
   "metadata": {},
   "outputs": [],
   "source": [
    "y_train = df_train['label'].values\n",
    "y_test = df_test['label'].values"
   ]
  },
  {
   "cell_type": "markdown",
   "metadata": {},
   "source": [
    "#### Po pochopení dát a príprave dát prejdeme do fázy modelovania, kde vytvoríme dokopy 3 modely, ktoré vyhodnodnotíme pomocou kontingenčných tabuliek, úspešnosti, návratnosti, F1 skóre...\n",
    "\n",
    "#### Prvý model je model neurónovej siete s konvolučnou vrstvou, s ReLu a Sigmoid aktivačnou funkciou a optimalizátorom Adam."
   ]
  },
  {
   "cell_type": "code",
   "execution_count": 35,
   "metadata": {},
   "outputs": [
    {
     "name": "stdout",
     "output_type": "stream",
     "text": [
      "Model: \"model_1\"\n",
      "_________________________________________________________________\n",
      "Layer (type)                 Output Shape              Param #   \n",
      "=================================================================\n",
      "input_1 (InputLayer)         (None, 1000)              0         \n",
      "_________________________________________________________________\n",
      "embedding_1 (Embedding)      (None, 1000, 100)         20177100  \n",
      "_________________________________________________________________\n",
      "conv1d_1 (Conv1D)            (None, 999, 100)          20100     \n",
      "_________________________________________________________________\n",
      "global_max_pooling1d_1 (Glob (None, 100)               0         \n",
      "_________________________________________________________________\n",
      "dense_1 (Dense)              (None, 256)               25856     \n",
      "_________________________________________________________________\n",
      "dense_2 (Dense)              (None, 1)                 257       \n",
      "=================================================================\n",
      "Total params: 20,223,313\n",
      "Trainable params: 20,223,313\n",
      "Non-trainable params: 0\n",
      "_________________________________________________________________\n",
      "None\n"
     ]
    }
   ],
   "source": [
    "#architektúra CNN modelu\n",
    "inputs = Input(shape=(max_length,))\n",
    "x = Embedding(num_words, EMBEDDING_DIM, weights=[embedding_matrix])(inputs)\n",
    "x = Conv1D(filters=100, kernel_size=2, padding='valid', activation='relu', strides=1)(x)\n",
    "x = GlobalMaxPooling1D()(x)\n",
    "x = Dense(256, activation='relu')(x)\n",
    "output = Dense(1, activation='sigmoid')(x)\n",
    "model_cnn = Model(inputs=inputs, outputs=output)\n",
    "model_cnn.compile(loss='binary_crossentropy', optimizer='adam', metrics=['acc'])\n",
    "print(model_cnn.summary())"
   ]
  },
  {
   "cell_type": "code",
   "execution_count": null,
   "metadata": {},
   "outputs": [],
   "source": [
    "#uloženie modelu\n",
    "saved_model = \"model_cnn_home_bezstop.hdf5\"\n",
    "checkpoint = ModelCheckpoint(saved_model, monitor='val_acc', verbose=1, save_best_only=True, mode='max')"
   ]
  },
  {
   "cell_type": "code",
   "execution_count": null,
   "metadata": {},
   "outputs": [],
   "source": [
    "#trénovanie modelu\n",
    "history = model_cnn.fit(train_padding, y_train, epochs=5, batch_size=32, validation_split=0.1, callbacks=[checkpoint])"
   ]
  },
  {
   "cell_type": "code",
   "execution_count": null,
   "metadata": {},
   "outputs": [],
   "source": [
    "#načítanie modelu\n",
    "model_cnn=load_model('model_cnn_home_bezstop.hdf5')\n",
    "\n",
    "#predikcia na testovacích dátach pomocou natrénovaného modelu,\n",
    "#vypísanie kontingenčnej tabuľky a metrík na vyhodnotenie ako úspešnosť, návrtanosť, F1 ...\n",
    "y_cnn = model_cnn.predict(test_padding)\n",
    "print('Roc auc score is {}'.format(roc_auc_score(y_test, y_cnn)))\n",
    "y_int = np.zeros_like(y_cnn)\n",
    "y_int[y_cnn > 0.5] = 1\n",
    "print('Accuracy is {}'.format(accuracy_score(y_test,y_int)))\n",
    "\n",
    "print(classification_report(y_test, y_int, zero_division=0))\n",
    "print(confusion_matrix(y_test, y_int))"
   ]
  },
  {
   "cell_type": "markdown",
   "metadata": {},
   "source": [
    "|              | Precision | Recall | F1-score | Support |\n",
    "|:------------:|:---------:|:------:|:--------:|:-------:|\n",
    "|       0      |    0.94   |  0.99  |   0.96   |   6495  |\n",
    "|       1      |    0.96   |  0.86  |   0.91   |   2776  |\n",
    "|              |           |        |          |         |\n",
    "|   Accuracy   |           |        |   0.95   |   9271  |\n",
    "|   Macro avg  |    0.95   |  0.92  |   0.93   |   9271  |\n",
    "| Weighted avg |    0.95   |  0.95  |   0.95   |   9271  |"
   ]
  },
  {
   "cell_type": "markdown",
   "metadata": {},
   "source": [
    "Accuracy : 0.946931\n",
    "\n",
    "ROC : 0.974959"
   ]
  },
  {
   "cell_type": "markdown",
   "metadata": {},
   "source": [
    "| Actual/Predicted | Fake news | True news |\n",
    "|------------------|-----------|-----------|\n",
    "| Fake news        |   TP-2381  |   FN-395  |\n",
    "| True news        |   FP-97  |  TN-6398  |"
   ]
  },
  {
   "cell_type": "markdown",
   "metadata": {},
   "source": [
    "#### Druhý model je model neurónovej siete s rekurentnou LSTM vrstvou, s ReLu a Sigmoid aktivačnou funkciou a optimalizátorom Adam."
   ]
  },
  {
   "cell_type": "code",
   "execution_count": 36,
   "metadata": {},
   "outputs": [
    {
     "name": "stdout",
     "output_type": "stream",
     "text": [
      "Model: \"model_2\"\n",
      "_________________________________________________________________\n",
      "Layer (type)                 Output Shape              Param #   \n",
      "=================================================================\n",
      "input_2 (InputLayer)         (None, 1000)              0         \n",
      "_________________________________________________________________\n",
      "embedding_2 (Embedding)      (None, 1000, 100)         20177100  \n",
      "_________________________________________________________________\n",
      "lstm_1 (LSTM)                (None, 128)               117248    \n",
      "_________________________________________________________________\n",
      "dropout_1 (Dropout)          (None, 128)               0         \n",
      "_________________________________________________________________\n",
      "dense_3 (Dense)              (None, 128)               16512     \n",
      "_________________________________________________________________\n",
      "dense_4 (Dense)              (None, 1)                 129       \n",
      "=================================================================\n",
      "Total params: 20,310,989\n",
      "Trainable params: 20,310,989\n",
      "Non-trainable params: 0\n",
      "_________________________________________________________________\n",
      "None\n"
     ]
    }
   ],
   "source": [
    "#architektúra LSTM modelu\n",
    "inputs = Input(shape=(max_length,))\n",
    "x = Embedding(num_words, EMBEDDING_DIM, weights=[embedding_matrix])(inputs)\n",
    "x = LSTM(128)(x)\n",
    "x = Dropout(0.2)(x)\n",
    "x = Dense(128, activation='relu')(x)\n",
    "output = Dense(1, activation='sigmoid')(x)\n",
    "model_lstm = Model(inputs=inputs, outputs=output)\n",
    "model_lstm.compile(loss='binary_crossentropy', optimizer='adam', metrics=['acc'])\n",
    "print(model_lstm.summary())"
   ]
  },
  {
   "cell_type": "code",
   "execution_count": null,
   "metadata": {},
   "outputs": [],
   "source": [
    "#uloženie modelu\n",
    "saved_model = \"model_lstm_home_bezstop.hdf5\"\n",
    "checkpoint = ModelCheckpoint(saved_model, monitor='val_acc', verbose=1, save_best_only=True, mode='max')"
   ]
  },
  {
   "cell_type": "code",
   "execution_count": null,
   "metadata": {},
   "outputs": [],
   "source": [
    "#trénovanie modelu\n",
    "history = model_lstm.fit(train_padding, y_train, epochs=5, batch_size=32, validation_split=0.1, callbacks=[checkpoint])"
   ]
  },
  {
   "cell_type": "code",
   "execution_count": null,
   "metadata": {},
   "outputs": [],
   "source": [
    "#načítanie modelu\n",
    "model_lstm=load_model('model_lstm_home_bezstop.hdf5')\n",
    "\n",
    "#predikcia na testovacích dátach pomocou natrénovaného modelu,\n",
    "#vypísanie kontingenčnej tabuľky a metrík na vyhodnotenie ako úspešnosť, návrtanosť, F1 ...\n",
    "y_cnn = model_lstm.predict(test_padding)\n",
    "print('Roc auc score is {}'.format(roc_auc_score(y_test, y_cnn)))\n",
    "y_int = np.zeros_like(y_cnn)\n",
    "y_int[y_cnn > 0.5] = 1\n",
    "print('Accuracy is {}'.format(accuracy_score(y_test,y_int)))\n",
    "\n",
    "print(classification_report(y_test, y_int, zero_division=0))\n",
    "print(confusion_matrix(y_test, y_int))"
   ]
  },
  {
   "cell_type": "markdown",
   "metadata": {},
   "source": [
    "|              | Precision | Recall | F1-score | Support |\n",
    "|:------------:|:---------:|:------:|:--------:|:-------:|\n",
    "|       0      |    0.95   |  0.99  |   0.97   |   6495  |\n",
    "|       1      |    0.97   |  0.88  |   0.92   |   2776  |\n",
    "|              |           |        |          |         |\n",
    "|   Accuracy   |           |        |   0.96   |   9271  |\n",
    "|   Macro avg  |    0.96   |  0.93  |   0.95   |   9271  |\n",
    "| Weighted avg |    0.96   |  0.96  |   0.96   |   9271  |"
   ]
  },
  {
   "cell_type": "markdown",
   "metadata": {},
   "source": [
    "Accuracy : 0.955992\n",
    "\n",
    "ROC : 0.975172"
   ]
  },
  {
   "cell_type": "markdown",
   "metadata": {},
   "source": [
    "| Actual/Predicted | Fake news | True news |\n",
    "|------------------|-----------|-----------|\n",
    "| Fake news        |   TP-2442  |   FN-334  |\n",
    "| True news        |   FP-74  |  TN-6421  |"
   ]
  },
  {
   "cell_type": "markdown",
   "metadata": {},
   "source": [
    "#### Tretí model je model neurónovej siete s obojstrannou rekurentnou LSTM vrstvou a konvolučnou vrstvou, s ReLu a Sigmoid aktivačnou funkciou a optimalizátorom Adam."
   ]
  },
  {
   "cell_type": "code",
   "execution_count": 37,
   "metadata": {},
   "outputs": [
    {
     "name": "stdout",
     "output_type": "stream",
     "text": [
      "Model: \"model_3\"\n",
      "_________________________________________________________________\n",
      "Layer (type)                 Output Shape              Param #   \n",
      "=================================================================\n",
      "input_3 (InputLayer)         (None, 1000)              0         \n",
      "_________________________________________________________________\n",
      "embedding_3 (Embedding)      (None, 1000, 100)         20177100  \n",
      "_________________________________________________________________\n",
      "spatial_dropout1d_1 (Spatial (None, 1000, 100)         0         \n",
      "_________________________________________________________________\n",
      "bidirectional_1 (Bidirection (None, 1000, 128)         84480     \n",
      "_________________________________________________________________\n",
      "conv1d_2 (Conv1D)            (None, 998, 32)           12320     \n",
      "_________________________________________________________________\n",
      "global_max_pooling1d_2 (Glob (None, 32)                0         \n",
      "_________________________________________________________________\n",
      "dense_5 (Dense)              (None, 64)                2112      \n",
      "_________________________________________________________________\n",
      "dropout_2 (Dropout)          (None, 64)                0         \n",
      "_________________________________________________________________\n",
      "dense_6 (Dense)              (None, 1)                 65        \n",
      "=================================================================\n",
      "Total params: 20,276,077\n",
      "Trainable params: 20,276,077\n",
      "Non-trainable params: 0\n",
      "_________________________________________________________________\n",
      "None\n"
     ]
    }
   ],
   "source": [
    "#architektúra Bi-LSTM + CNN modelu\n",
    "inputs = Input(shape=(max_length,))\n",
    "x = Embedding(num_words, EMBEDDING_DIM, weights=[embedding_matrix])(inputs)\n",
    "x = SpatialDropout1D(0.2)(x)\n",
    "x = Bidirectional(LSTM(64, return_sequences=True,dropout=0.1,recurrent_dropout=0.1))(x)\n",
    "x = Conv1D(32, kernel_size = 3, padding = \"valid\", kernel_initializer = \"glorot_uniform\")(x)\n",
    "x = GlobalMaxPooling1D()(x)\n",
    "x = Dense(64, activation='relu')(x)\n",
    "x = Dropout(0.2)(x)\n",
    "output = Dense(1, activation='sigmoid')(x)\n",
    "model_bilstm = Model(inputs=inputs, outputs=output)\n",
    "model_bilstm.compile(loss='binary_crossentropy', optimizer='adam', metrics=['acc'])\n",
    "print(model_bilstm.summary())"
   ]
  },
  {
   "cell_type": "code",
   "execution_count": null,
   "metadata": {},
   "outputs": [],
   "source": [
    "#uloženie modelu\n",
    "saved_model = \"model_bilstm_home_bezstop.hdf5\"\n",
    "checkpoint = ModelCheckpoint(saved_model, monitor='val_acc', verbose=1, save_best_only=True, mode='max')"
   ]
  },
  {
   "cell_type": "code",
   "execution_count": null,
   "metadata": {},
   "outputs": [],
   "source": [
    "#trénovanie modelu\n",
    "history = model_bilstm.fit(train_padding, y_train, epochs=5, batch_size=32, validation_split=0.1, callbacks=[checkpoint])"
   ]
  },
  {
   "cell_type": "code",
   "execution_count": null,
   "metadata": {},
   "outputs": [],
   "source": [
    "#načítanie modelu\n",
    "model_bilstm=load_model('model_bilstm_home_bezstop.hdf5')\n",
    "\n",
    "#predikcia na testovacích dátach pomocou natrénovaného modelu,\n",
    "#vypísanie kontingenčnej tabuľky a metrík na vyhodnotenie ako úspešnosť, návrtanosť, F1 ...\n",
    "y_cnn = model_bilstm.predict(test_padding)\n",
    "print('Roc auc score is {}'.format(roc_auc_score(y_test, y_cnn)))\n",
    "y_int = np.zeros_like(y_cnn)\n",
    "y_int[y_cnn > 0.5] = 1\n",
    "print('Accuracy is {}'.format(accuracy_score(y_test,y_int)))\n",
    "\n",
    "print(classification_report(y_test, y_int, zero_division=0))\n",
    "print(confusion_matrix(y_test, y_int))"
   ]
  },
  {
   "cell_type": "markdown",
   "metadata": {},
   "source": [
    "|              | Precision | Recall | F1-score | Support |\n",
    "|:------------:|:---------:|:------:|:--------:|:-------:|\n",
    "|       0      |    0.95   |  0.99  |   0.97   |   6495  |\n",
    "|       1      |    0.97   |  0.87  |   0.92   |   2776  |\n",
    "|              |           |        |          |         |\n",
    "|   Accuracy   |           |        |   0.95   |   9271  |\n",
    "|   Macro avg  |    0.96   |  0.93  |   0.94   |   9271  |\n",
    "| Weighted avg |    0.95   |  0.95  |   0.95   |   9271  |"
   ]
  },
  {
   "cell_type": "markdown",
   "metadata": {},
   "source": [
    "Accuracy : 0.953942\n",
    "\n",
    "ROC : 0.979645"
   ]
  },
  {
   "cell_type": "markdown",
   "metadata": {},
   "source": [
    "| Actual/Predicted | Fake news | True news |\n",
    "|------------------|-----------|-----------|\n",
    "| Fake news        |   TP-2431  |   FN-345  |\n",
    "| True news        |   FP-65  |  TN-6418  |"
   ]
  }
 ],
 "metadata": {
  "kernelspec": {
   "display_name": "Python 3",
   "language": "python",
   "name": "python3"
  },
  "language_info": {
   "codemirror_mode": {
    "name": "ipython",
    "version": 3
   },
   "file_extension": ".py",
   "mimetype": "text/x-python",
   "name": "python",
   "nbconvert_exporter": "python",
   "pygments_lexer": "ipython3",
   "version": "3.6.12"
  }
 },
 "nbformat": 4,
 "nbformat_minor": 4
}
